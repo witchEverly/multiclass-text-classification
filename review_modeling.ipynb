{
 "cells": [
  {
   "cell_type": "markdown",
   "source": [],
   "metadata": {
    "collapsed": false
   },
   "id": "7b92bc032c4134cb"
  },
  {
   "cell_type": "markdown",
   "source": [],
   "metadata": {
    "collapsed": false
   },
   "id": "fb49e75327015647"
  },
  {
   "cell_type": "code",
   "execution_count": 1,
   "id": "initial_id",
   "metadata": {
    "collapsed": true,
    "ExecuteTime": {
     "end_time": "2024-01-03T17:28:47.280626Z",
     "start_time": "2024-01-03T17:28:46.375804Z"
    }
   },
   "outputs": [],
   "source": [
    "from utilities import *\n",
    "\n",
    "from os.path import expanduser\n",
    "\n",
    "from sklearn.metrics import classification_report\n",
    "from sklearn.model_selection import train_test_split\n",
    "from sklearn.preprocessing import LabelEncoder\n",
    "\n",
    "from yellowbrick.classifier import ConfusionMatrix, ClassificationReport, ROCAUC"
   ]
  },
  {
   "cell_type": "code",
   "execution_count": 2,
   "outputs": [],
   "source": [
    "path = expanduser('~/data/Women Dresses Reviews Dataset .csv')\n",
    "data = pd.read_csv(path)"
   ],
   "metadata": {
    "collapsed": false,
    "ExecuteTime": {
     "end_time": "2024-01-03T17:28:47.366302Z",
     "start_time": "2024-01-03T17:28:47.281294Z"
    }
   },
   "id": "ef3e18309a6f1b42"
  },
  {
   "cell_type": "code",
   "execution_count": 3,
   "outputs": [
    {
     "data": {
      "text/plain": "        s.no  age division_name department_name class_name  clothing_id  \\\n3997    3997   54       General         Bottoms      Pants         1066   \n18149  18149   65       General            Tops      Knits          854   \n7253    7253   42       General         Bottoms      Pants         1042   \n\n                    title                                        review_text  \\\n3997        Perfect pants  I paid full price for these gladly (the olive ...   \n18149  Casual type dressy  This blouse is perfect for semi dressy occasio...   \n7253    Beauttiful fabric  I love these pants. the material is so nice an...   \n\n       alike_feedback_count  rating  recommend_index   \n3997                      0       5                 1  \n18149                     0       4                 1  \n7253                      0       4                 1  ",
      "text/html": "<div>\n<style scoped>\n    .dataframe tbody tr th:only-of-type {\n        vertical-align: middle;\n    }\n\n    .dataframe tbody tr th {\n        vertical-align: top;\n    }\n\n    .dataframe thead th {\n        text-align: right;\n    }\n</style>\n<table border=\"1\" class=\"dataframe\">\n  <thead>\n    <tr style=\"text-align: right;\">\n      <th></th>\n      <th>s.no</th>\n      <th>age</th>\n      <th>division_name</th>\n      <th>department_name</th>\n      <th>class_name</th>\n      <th>clothing_id</th>\n      <th>title</th>\n      <th>review_text</th>\n      <th>alike_feedback_count</th>\n      <th>rating</th>\n      <th>recommend_index</th>\n    </tr>\n  </thead>\n  <tbody>\n    <tr>\n      <th>3997</th>\n      <td>3997</td>\n      <td>54</td>\n      <td>General</td>\n      <td>Bottoms</td>\n      <td>Pants</td>\n      <td>1066</td>\n      <td>Perfect pants</td>\n      <td>I paid full price for these gladly (the olive ...</td>\n      <td>0</td>\n      <td>5</td>\n      <td>1</td>\n    </tr>\n    <tr>\n      <th>18149</th>\n      <td>18149</td>\n      <td>65</td>\n      <td>General</td>\n      <td>Tops</td>\n      <td>Knits</td>\n      <td>854</td>\n      <td>Casual type dressy</td>\n      <td>This blouse is perfect for semi dressy occasio...</td>\n      <td>0</td>\n      <td>4</td>\n      <td>1</td>\n    </tr>\n    <tr>\n      <th>7253</th>\n      <td>7253</td>\n      <td>42</td>\n      <td>General</td>\n      <td>Bottoms</td>\n      <td>Pants</td>\n      <td>1042</td>\n      <td>Beauttiful fabric</td>\n      <td>I love these pants. the material is so nice an...</td>\n      <td>0</td>\n      <td>4</td>\n      <td>1</td>\n    </tr>\n  </tbody>\n</table>\n</div>"
     },
     "execution_count": 3,
     "metadata": {},
     "output_type": "execute_result"
    }
   ],
   "source": [
    "data.sample(3)"
   ],
   "metadata": {
    "collapsed": false,
    "ExecuteTime": {
     "end_time": "2024-01-03T17:28:47.377693Z",
     "start_time": "2024-01-03T17:28:47.369239Z"
    }
   },
   "id": "823a82c5ddbeafb5"
  },
  {
   "cell_type": "code",
   "execution_count": 4,
   "outputs": [
    {
     "data": {
      "text/plain": "rating\n5    13131\n4     5077\n3     2871\n2     1565\n1      842\nName: count, dtype: int64"
     },
     "execution_count": 4,
     "metadata": {},
     "output_type": "execute_result"
    }
   ],
   "source": [
    "data['rating'].value_counts()"
   ],
   "metadata": {
    "collapsed": false,
    "ExecuteTime": {
     "end_time": "2024-01-03T17:28:47.381844Z",
     "start_time": "2024-01-03T17:28:47.377217Z"
    }
   },
   "id": "800436aa5f73c3fe"
  },
  {
   "cell_type": "code",
   "execution_count": 5,
   "outputs": [
    {
     "data": {
      "text/plain": "review_text       0\nrating         3828\ndtype: object"
     },
     "execution_count": 5,
     "metadata": {},
     "output_type": "execute_result"
    }
   ],
   "source": [
    "data[data['review_text'].isnull()][['review_text', 'rating']].sum()"
   ],
   "metadata": {
    "collapsed": false,
    "ExecuteTime": {
     "end_time": "2024-01-03T17:28:47.385904Z",
     "start_time": "2024-01-03T17:28:47.382997Z"
    }
   },
   "id": "db04f5017c349cfc"
  },
  {
   "cell_type": "code",
   "execution_count": 6,
   "outputs": [],
   "source": [
    "data['review_text'] = data['review_text'].fillna('')\n",
    "\n",
    "data['cleaned_review'] = data['review_text']\\\n",
    "    .apply(lambda x: tokenize(x))\\\n",
    "    .apply(lambda x: create_stemwords(x))\n",
    "\n",
    "# sklearn throws an error if the data isn't string\n",
    "data['cleaned_review_JOINED'] = data['cleaned_review'].apply(lambda x: ' '.join(x))"
   ],
   "metadata": {
    "collapsed": false,
    "ExecuteTime": {
     "end_time": "2024-01-03T17:28:55.968428Z",
     "start_time": "2024-01-03T17:28:47.387396Z"
    }
   },
   "id": "95164fc1351a98db"
  },
  {
   "cell_type": "code",
   "execution_count": 7,
   "outputs": [
    {
     "data": {
      "text/plain": "Series([], Name: cleaned_review_JOINED, dtype: object)"
     },
     "execution_count": 7,
     "metadata": {},
     "output_type": "execute_result"
    }
   ],
   "source": [
    "X = data['cleaned_review_JOINED']\n",
    "y = data['rating']\n",
    "\n",
    "# look at X where y is null\n",
    "X[y.isnull()]"
   ],
   "metadata": {
    "collapsed": false,
    "ExecuteTime": {
     "end_time": "2024-01-03T17:28:55.972990Z",
     "start_time": "2024-01-03T17:28:55.969660Z"
    }
   },
   "id": "a454d00ea6110cfd"
  },
  {
   "cell_type": "code",
   "execution_count": 8,
   "outputs": [],
   "source": [
    "# # drop rows where y is null\n",
    "# X = X.dropna()\n",
    "# y = y.dropna()\n",
    "\n",
    "X_train, X_test, y_train, y_test  = train_test_split(\n",
    "    X, y, test_size=0.2, random_state=42, stratify=y\n",
    ")"
   ],
   "metadata": {
    "collapsed": false,
    "ExecuteTime": {
     "end_time": "2024-01-03T17:29:01.314066Z",
     "start_time": "2024-01-03T17:29:01.303559Z"
    }
   },
   "id": "cb7fd11037c6f356"
  },
  {
   "cell_type": "code",
   "execution_count": 9,
   "outputs": [],
   "source": [
    "# encode target labels with value between 0 and n_classes-1\n",
    "encoder = LabelEncoder()\n",
    "y_train = encoder.fit_transform(y_train)\n",
    "y_test = encoder.transform(y_test)"
   ],
   "metadata": {
    "collapsed": false,
    "ExecuteTime": {
     "end_time": "2024-01-03T17:29:04.536234Z",
     "start_time": "2024-01-03T17:29:04.531246Z"
    }
   },
   "id": "c665553dd2f74036"
  },
  {
   "cell_type": "code",
   "execution_count": 10,
   "outputs": [],
   "source": [
    "tfidf_params = {}\n",
    "nb_params = {}"
   ],
   "metadata": {
    "collapsed": false,
    "ExecuteTime": {
     "end_time": "2024-01-03T17:29:07.392027Z",
     "start_time": "2024-01-03T17:29:07.389498Z"
    }
   },
   "id": "52bd5954aca45f83"
  },
  {
   "cell_type": "code",
   "execution_count": 11,
   "outputs": [
    {
     "name": "stdout",
     "output_type": "stream",
     "text": [
      "              precision    recall  f1-score   support\n",
      "\n",
      "           0       0.29      0.40      0.34       168\n",
      "           1       0.33      0.17      0.22       313\n",
      "           2       0.34      0.44      0.38       574\n",
      "           3       0.34      0.50      0.40      1016\n",
      "           4       0.83      0.64      0.73      2627\n",
      "\n",
      "    accuracy                           0.55      4698\n",
      "   macro avg       0.43      0.43      0.42      4698\n",
      "weighted avg       0.61      0.55      0.57      4698\n"
     ]
    }
   ],
   "source": [
    "nb_pipeline, nb_preds = naive_bayes_pipeline(\n",
    "    X_train=X_train,\n",
    "    y_train=y_train,\n",
    "    X_test=X_test,\n",
    "    y_test=y_test,\n",
    "    sampling_method='adasyn'\n",
    ")\n",
    "\n",
    "print(classification_report(y_test, nb_preds))"
   ],
   "metadata": {
    "collapsed": false,
    "ExecuteTime": {
     "end_time": "2024-01-03T17:29:17.760196Z",
     "start_time": "2024-01-03T17:29:09.606727Z"
    }
   },
   "id": "3201502eb0c6474d"
  },
  {
   "cell_type": "code",
   "execution_count": 16,
   "outputs": [],
   "source": [
    "lr_params = {'C': 1.0, 'penalty': 'l1', 'max_iter': 1000}"
   ],
   "metadata": {
    "collapsed": false,
    "ExecuteTime": {
     "end_time": "2024-01-03T04:12:35.376019Z",
     "start_time": "2024-01-03T04:12:35.371698Z"
    }
   },
   "id": "385de069b7d55d27"
  },
  {
   "cell_type": "code",
   "execution_count": 17,
   "outputs": [
    {
     "ename": "ValueError",
     "evalue": "could not convert string to float: 'tri dress store look frumpi ruch flatter fabric felt cheap think price plenti option dress wow look lb fit fine'",
     "output_type": "error",
     "traceback": [
      "\u001B[0;31m---------------------------------------------------------------------------\u001B[0m",
      "\u001B[0;31mValueError\u001B[0m                                Traceback (most recent call last)",
      "Cell \u001B[0;32mIn[17], line 1\u001B[0m\n\u001B[0;32m----> 1\u001B[0m log_rg_pipeline, log_rg_preds \u001B[38;5;241m=\u001B[39m logistic_regression_pipeline(\n\u001B[1;32m      2\u001B[0m     X_train\u001B[38;5;241m=\u001B[39mX_train,\n\u001B[1;32m      3\u001B[0m     y_train\u001B[38;5;241m=\u001B[39my_train,\n\u001B[1;32m      4\u001B[0m     X_test\u001B[38;5;241m=\u001B[39mX_test,\n\u001B[1;32m      5\u001B[0m     y_test\u001B[38;5;241m=\u001B[39my_test,\n\u001B[1;32m      6\u001B[0m     lr_params\u001B[38;5;241m=\u001B[39mlr_params\n\u001B[1;32m      7\u001B[0m )\n",
      "File \u001B[0;32m~/mle/multiclass-text-classification/utilities.py:114\u001B[0m, in \u001B[0;36mlogistic_regression_pipeline\u001B[0;34m(X_train, y_train, X_test, y_test, sampling_method, **kwargs)\u001B[0m\n\u001B[1;32m    102\u001B[0m \u001B[38;5;250m\u001B[39m\u001B[38;5;124;03m\"\"\"\u001B[39;00m\n\u001B[1;32m    103\u001B[0m \u001B[38;5;124;03mCreate a TF-IDF vectorized Logistic Regression model pipeline and fit it to the training data. Allows passing custom parameters to TfidfVectorizer, sampling method, and LogisticRegression.\u001B[39;00m\n\u001B[1;32m    104\u001B[0m \n\u001B[0;32m   (...)\u001B[0m\n\u001B[1;32m    111\u001B[0m \u001B[38;5;124;03mTuple: A tuple containing the trained pipeline, predictions, and classification report.\u001B[39;00m\n\u001B[1;32m    112\u001B[0m \u001B[38;5;124;03m\"\"\"\u001B[39;00m\n\u001B[1;32m    113\u001B[0m scaler \u001B[38;5;241m=\u001B[39m StandardScaler()\n\u001B[0;32m--> 114\u001B[0m X_train \u001B[38;5;241m=\u001B[39m scaler\u001B[38;5;241m.\u001B[39mfit_transform(X_train)\n\u001B[1;32m    115\u001B[0m X_test \u001B[38;5;241m=\u001B[39m scaler\u001B[38;5;241m.\u001B[39mtransform(X_test)\n\u001B[1;32m    118\u001B[0m sampling_methods \u001B[38;5;241m=\u001B[39m {\u001B[38;5;124m'\u001B[39m\u001B[38;5;124msmote\u001B[39m\u001B[38;5;124m'\u001B[39m: SMOTE,\n\u001B[1;32m    119\u001B[0m                     \u001B[38;5;124m'\u001B[39m\u001B[38;5;124madasyn\u001B[39m\u001B[38;5;124m'\u001B[39m: ADASYN,\n\u001B[1;32m    120\u001B[0m                     \u001B[38;5;124m'\u001B[39m\u001B[38;5;124mros\u001B[39m\u001B[38;5;124m'\u001B[39m: RandomOverSampler}\n",
      "File \u001B[0;32m~/opt/anaconda3/envs/mle/lib/python3.11/site-packages/sklearn/utils/_set_output.py:140\u001B[0m, in \u001B[0;36m_wrap_method_output.<locals>.wrapped\u001B[0;34m(self, X, *args, **kwargs)\u001B[0m\n\u001B[1;32m    138\u001B[0m \u001B[38;5;129m@wraps\u001B[39m(f)\n\u001B[1;32m    139\u001B[0m \u001B[38;5;28;01mdef\u001B[39;00m \u001B[38;5;21mwrapped\u001B[39m(\u001B[38;5;28mself\u001B[39m, X, \u001B[38;5;241m*\u001B[39margs, \u001B[38;5;241m*\u001B[39m\u001B[38;5;241m*\u001B[39mkwargs):\n\u001B[0;32m--> 140\u001B[0m     data_to_wrap \u001B[38;5;241m=\u001B[39m f(\u001B[38;5;28mself\u001B[39m, X, \u001B[38;5;241m*\u001B[39margs, \u001B[38;5;241m*\u001B[39m\u001B[38;5;241m*\u001B[39mkwargs)\n\u001B[1;32m    141\u001B[0m     \u001B[38;5;28;01mif\u001B[39;00m \u001B[38;5;28misinstance\u001B[39m(data_to_wrap, \u001B[38;5;28mtuple\u001B[39m):\n\u001B[1;32m    142\u001B[0m         \u001B[38;5;66;03m# only wrap the first output for cross decomposition\u001B[39;00m\n\u001B[1;32m    143\u001B[0m         return_tuple \u001B[38;5;241m=\u001B[39m (\n\u001B[1;32m    144\u001B[0m             _wrap_data_with_container(method, data_to_wrap[\u001B[38;5;241m0\u001B[39m], X, \u001B[38;5;28mself\u001B[39m),\n\u001B[1;32m    145\u001B[0m             \u001B[38;5;241m*\u001B[39mdata_to_wrap[\u001B[38;5;241m1\u001B[39m:],\n\u001B[1;32m    146\u001B[0m         )\n",
      "File \u001B[0;32m~/opt/anaconda3/envs/mle/lib/python3.11/site-packages/sklearn/base.py:915\u001B[0m, in \u001B[0;36mTransformerMixin.fit_transform\u001B[0;34m(self, X, y, **fit_params)\u001B[0m\n\u001B[1;32m    911\u001B[0m \u001B[38;5;66;03m# non-optimized default implementation; override when a better\u001B[39;00m\n\u001B[1;32m    912\u001B[0m \u001B[38;5;66;03m# method is possible for a given clustering algorithm\u001B[39;00m\n\u001B[1;32m    913\u001B[0m \u001B[38;5;28;01mif\u001B[39;00m y \u001B[38;5;129;01mis\u001B[39;00m \u001B[38;5;28;01mNone\u001B[39;00m:\n\u001B[1;32m    914\u001B[0m     \u001B[38;5;66;03m# fit method of arity 1 (unsupervised transformation)\u001B[39;00m\n\u001B[0;32m--> 915\u001B[0m     \u001B[38;5;28;01mreturn\u001B[39;00m \u001B[38;5;28mself\u001B[39m\u001B[38;5;241m.\u001B[39mfit(X, \u001B[38;5;241m*\u001B[39m\u001B[38;5;241m*\u001B[39mfit_params)\u001B[38;5;241m.\u001B[39mtransform(X)\n\u001B[1;32m    916\u001B[0m \u001B[38;5;28;01melse\u001B[39;00m:\n\u001B[1;32m    917\u001B[0m     \u001B[38;5;66;03m# fit method of arity 2 (supervised transformation)\u001B[39;00m\n\u001B[1;32m    918\u001B[0m     \u001B[38;5;28;01mreturn\u001B[39;00m \u001B[38;5;28mself\u001B[39m\u001B[38;5;241m.\u001B[39mfit(X, y, \u001B[38;5;241m*\u001B[39m\u001B[38;5;241m*\u001B[39mfit_params)\u001B[38;5;241m.\u001B[39mtransform(X)\n",
      "File \u001B[0;32m~/opt/anaconda3/envs/mle/lib/python3.11/site-packages/sklearn/preprocessing/_data.py:837\u001B[0m, in \u001B[0;36mStandardScaler.fit\u001B[0;34m(self, X, y, sample_weight)\u001B[0m\n\u001B[1;32m    835\u001B[0m \u001B[38;5;66;03m# Reset internal state before fitting\u001B[39;00m\n\u001B[1;32m    836\u001B[0m \u001B[38;5;28mself\u001B[39m\u001B[38;5;241m.\u001B[39m_reset()\n\u001B[0;32m--> 837\u001B[0m \u001B[38;5;28;01mreturn\u001B[39;00m \u001B[38;5;28mself\u001B[39m\u001B[38;5;241m.\u001B[39mpartial_fit(X, y, sample_weight)\n",
      "File \u001B[0;32m~/opt/anaconda3/envs/mle/lib/python3.11/site-packages/sklearn/base.py:1151\u001B[0m, in \u001B[0;36m_fit_context.<locals>.decorator.<locals>.wrapper\u001B[0;34m(estimator, *args, **kwargs)\u001B[0m\n\u001B[1;32m   1144\u001B[0m     estimator\u001B[38;5;241m.\u001B[39m_validate_params()\n\u001B[1;32m   1146\u001B[0m \u001B[38;5;28;01mwith\u001B[39;00m config_context(\n\u001B[1;32m   1147\u001B[0m     skip_parameter_validation\u001B[38;5;241m=\u001B[39m(\n\u001B[1;32m   1148\u001B[0m         prefer_skip_nested_validation \u001B[38;5;129;01mor\u001B[39;00m global_skip_validation\n\u001B[1;32m   1149\u001B[0m     )\n\u001B[1;32m   1150\u001B[0m ):\n\u001B[0;32m-> 1151\u001B[0m     \u001B[38;5;28;01mreturn\u001B[39;00m fit_method(estimator, \u001B[38;5;241m*\u001B[39margs, \u001B[38;5;241m*\u001B[39m\u001B[38;5;241m*\u001B[39mkwargs)\n",
      "File \u001B[0;32m~/opt/anaconda3/envs/mle/lib/python3.11/site-packages/sklearn/preprocessing/_data.py:873\u001B[0m, in \u001B[0;36mStandardScaler.partial_fit\u001B[0;34m(self, X, y, sample_weight)\u001B[0m\n\u001B[1;32m    841\u001B[0m \u001B[38;5;250m\u001B[39m\u001B[38;5;124;03m\"\"\"Online computation of mean and std on X for later scaling.\u001B[39;00m\n\u001B[1;32m    842\u001B[0m \n\u001B[1;32m    843\u001B[0m \u001B[38;5;124;03mAll of X is processed as a single batch. This is intended for cases\u001B[39;00m\n\u001B[0;32m   (...)\u001B[0m\n\u001B[1;32m    870\u001B[0m \u001B[38;5;124;03m    Fitted scaler.\u001B[39;00m\n\u001B[1;32m    871\u001B[0m \u001B[38;5;124;03m\"\"\"\u001B[39;00m\n\u001B[1;32m    872\u001B[0m first_call \u001B[38;5;241m=\u001B[39m \u001B[38;5;129;01mnot\u001B[39;00m \u001B[38;5;28mhasattr\u001B[39m(\u001B[38;5;28mself\u001B[39m, \u001B[38;5;124m\"\u001B[39m\u001B[38;5;124mn_samples_seen_\u001B[39m\u001B[38;5;124m\"\u001B[39m)\n\u001B[0;32m--> 873\u001B[0m X \u001B[38;5;241m=\u001B[39m \u001B[38;5;28mself\u001B[39m\u001B[38;5;241m.\u001B[39m_validate_data(\n\u001B[1;32m    874\u001B[0m     X,\n\u001B[1;32m    875\u001B[0m     accept_sparse\u001B[38;5;241m=\u001B[39m(\u001B[38;5;124m\"\u001B[39m\u001B[38;5;124mcsr\u001B[39m\u001B[38;5;124m\"\u001B[39m, \u001B[38;5;124m\"\u001B[39m\u001B[38;5;124mcsc\u001B[39m\u001B[38;5;124m\"\u001B[39m),\n\u001B[1;32m    876\u001B[0m     dtype\u001B[38;5;241m=\u001B[39mFLOAT_DTYPES,\n\u001B[1;32m    877\u001B[0m     force_all_finite\u001B[38;5;241m=\u001B[39m\u001B[38;5;124m\"\u001B[39m\u001B[38;5;124mallow-nan\u001B[39m\u001B[38;5;124m\"\u001B[39m,\n\u001B[1;32m    878\u001B[0m     reset\u001B[38;5;241m=\u001B[39mfirst_call,\n\u001B[1;32m    879\u001B[0m )\n\u001B[1;32m    880\u001B[0m n_features \u001B[38;5;241m=\u001B[39m X\u001B[38;5;241m.\u001B[39mshape[\u001B[38;5;241m1\u001B[39m]\n\u001B[1;32m    882\u001B[0m \u001B[38;5;28;01mif\u001B[39;00m sample_weight \u001B[38;5;129;01mis\u001B[39;00m \u001B[38;5;129;01mnot\u001B[39;00m \u001B[38;5;28;01mNone\u001B[39;00m:\n",
      "File \u001B[0;32m~/opt/anaconda3/envs/mle/lib/python3.11/site-packages/sklearn/base.py:604\u001B[0m, in \u001B[0;36mBaseEstimator._validate_data\u001B[0;34m(self, X, y, reset, validate_separately, cast_to_ndarray, **check_params)\u001B[0m\n\u001B[1;32m    602\u001B[0m         out \u001B[38;5;241m=\u001B[39m X, y\n\u001B[1;32m    603\u001B[0m \u001B[38;5;28;01melif\u001B[39;00m \u001B[38;5;129;01mnot\u001B[39;00m no_val_X \u001B[38;5;129;01mand\u001B[39;00m no_val_y:\n\u001B[0;32m--> 604\u001B[0m     out \u001B[38;5;241m=\u001B[39m check_array(X, input_name\u001B[38;5;241m=\u001B[39m\u001B[38;5;124m\"\u001B[39m\u001B[38;5;124mX\u001B[39m\u001B[38;5;124m\"\u001B[39m, \u001B[38;5;241m*\u001B[39m\u001B[38;5;241m*\u001B[39mcheck_params)\n\u001B[1;32m    605\u001B[0m \u001B[38;5;28;01melif\u001B[39;00m no_val_X \u001B[38;5;129;01mand\u001B[39;00m \u001B[38;5;129;01mnot\u001B[39;00m no_val_y:\n\u001B[1;32m    606\u001B[0m     out \u001B[38;5;241m=\u001B[39m _check_y(y, \u001B[38;5;241m*\u001B[39m\u001B[38;5;241m*\u001B[39mcheck_params)\n",
      "File \u001B[0;32m~/opt/anaconda3/envs/mle/lib/python3.11/site-packages/sklearn/utils/validation.py:917\u001B[0m, in \u001B[0;36mcheck_array\u001B[0;34m(array, accept_sparse, accept_large_sparse, dtype, order, copy, force_all_finite, ensure_2d, allow_nd, ensure_min_samples, ensure_min_features, estimator, input_name)\u001B[0m\n\u001B[1;32m    915\u001B[0m         array \u001B[38;5;241m=\u001B[39m xp\u001B[38;5;241m.\u001B[39mastype(array, dtype, copy\u001B[38;5;241m=\u001B[39m\u001B[38;5;28;01mFalse\u001B[39;00m)\n\u001B[1;32m    916\u001B[0m     \u001B[38;5;28;01melse\u001B[39;00m:\n\u001B[0;32m--> 917\u001B[0m         array \u001B[38;5;241m=\u001B[39m _asarray_with_order(array, order\u001B[38;5;241m=\u001B[39morder, dtype\u001B[38;5;241m=\u001B[39mdtype, xp\u001B[38;5;241m=\u001B[39mxp)\n\u001B[1;32m    918\u001B[0m \u001B[38;5;28;01mexcept\u001B[39;00m ComplexWarning \u001B[38;5;28;01mas\u001B[39;00m complex_warning:\n\u001B[1;32m    919\u001B[0m     \u001B[38;5;28;01mraise\u001B[39;00m \u001B[38;5;167;01mValueError\u001B[39;00m(\n\u001B[1;32m    920\u001B[0m         \u001B[38;5;124m\"\u001B[39m\u001B[38;5;124mComplex data not supported\u001B[39m\u001B[38;5;130;01m\\n\u001B[39;00m\u001B[38;5;132;01m{}\u001B[39;00m\u001B[38;5;130;01m\\n\u001B[39;00m\u001B[38;5;124m\"\u001B[39m\u001B[38;5;241m.\u001B[39mformat(array)\n\u001B[1;32m    921\u001B[0m     ) \u001B[38;5;28;01mfrom\u001B[39;00m \u001B[38;5;21;01mcomplex_warning\u001B[39;00m\n",
      "File \u001B[0;32m~/opt/anaconda3/envs/mle/lib/python3.11/site-packages/sklearn/utils/_array_api.py:380\u001B[0m, in \u001B[0;36m_asarray_with_order\u001B[0;34m(array, dtype, order, copy, xp)\u001B[0m\n\u001B[1;32m    378\u001B[0m     array \u001B[38;5;241m=\u001B[39m numpy\u001B[38;5;241m.\u001B[39marray(array, order\u001B[38;5;241m=\u001B[39morder, dtype\u001B[38;5;241m=\u001B[39mdtype)\n\u001B[1;32m    379\u001B[0m \u001B[38;5;28;01melse\u001B[39;00m:\n\u001B[0;32m--> 380\u001B[0m     array \u001B[38;5;241m=\u001B[39m numpy\u001B[38;5;241m.\u001B[39masarray(array, order\u001B[38;5;241m=\u001B[39morder, dtype\u001B[38;5;241m=\u001B[39mdtype)\n\u001B[1;32m    382\u001B[0m \u001B[38;5;66;03m# At this point array is a NumPy ndarray. We convert it to an array\u001B[39;00m\n\u001B[1;32m    383\u001B[0m \u001B[38;5;66;03m# container that is consistent with the input's namespace.\u001B[39;00m\n\u001B[1;32m    384\u001B[0m \u001B[38;5;28;01mreturn\u001B[39;00m xp\u001B[38;5;241m.\u001B[39masarray(array)\n",
      "File \u001B[0;32m~/opt/anaconda3/envs/mle/lib/python3.11/site-packages/pandas/core/series.py:953\u001B[0m, in \u001B[0;36mSeries.__array__\u001B[0;34m(self, dtype)\u001B[0m\n\u001B[1;32m    906\u001B[0m \u001B[38;5;250m\u001B[39m\u001B[38;5;124;03m\"\"\"\u001B[39;00m\n\u001B[1;32m    907\u001B[0m \u001B[38;5;124;03mReturn the values as a NumPy array.\u001B[39;00m\n\u001B[1;32m    908\u001B[0m \n\u001B[0;32m   (...)\u001B[0m\n\u001B[1;32m    950\u001B[0m \u001B[38;5;124;03m      dtype='datetime64[ns]')\u001B[39;00m\n\u001B[1;32m    951\u001B[0m \u001B[38;5;124;03m\"\"\"\u001B[39;00m\n\u001B[1;32m    952\u001B[0m values \u001B[38;5;241m=\u001B[39m \u001B[38;5;28mself\u001B[39m\u001B[38;5;241m.\u001B[39m_values\n\u001B[0;32m--> 953\u001B[0m arr \u001B[38;5;241m=\u001B[39m np\u001B[38;5;241m.\u001B[39masarray(values, dtype\u001B[38;5;241m=\u001B[39mdtype)\n\u001B[1;32m    954\u001B[0m \u001B[38;5;28;01mif\u001B[39;00m using_copy_on_write() \u001B[38;5;129;01mand\u001B[39;00m astype_is_view(values\u001B[38;5;241m.\u001B[39mdtype, arr\u001B[38;5;241m.\u001B[39mdtype):\n\u001B[1;32m    955\u001B[0m     arr \u001B[38;5;241m=\u001B[39m arr\u001B[38;5;241m.\u001B[39mview()\n",
      "\u001B[0;31mValueError\u001B[0m: could not convert string to float: 'tri dress store look frumpi ruch flatter fabric felt cheap think price plenti option dress wow look lb fit fine'"
     ]
    }
   ],
   "source": [
    "log_rg_pipeline, log_rg_preds = logistic_regression_pipeline(\n",
    "    X_train=X_train,\n",
    "    y_train=y_train,\n",
    "    X_test=X_test,\n",
    "    y_test=y_test,\n",
    "    lr_params=lr_params\n",
    ")"
   ],
   "metadata": {
    "collapsed": false,
    "ExecuteTime": {
     "end_time": "2024-01-03T04:12:36.323373Z",
     "start_time": "2024-01-03T04:12:36.267855Z"
    }
   },
   "id": "293a41c9313d8085"
  },
  {
   "cell_type": "code",
   "execution_count": 81,
   "outputs": [
    {
     "name": "stderr",
     "output_type": "stream",
     "text": [
      "/Users/witcheverly/opt/anaconda3/envs/mle/lib/python3.11/site-packages/yellowbrick/classifier/base.py:232: YellowbrickWarning: could not determine class_counts_ from previously fitted classifier\n",
      "  warnings.warn(\n"
     ]
    },
    {
     "ename": "YellowbrickAttributeError",
     "evalue": "neither visualizer 'ROCAUC' nor wrapped estimator 'Pipeline' have attribute 'target_type_'",
     "output_type": "error",
     "traceback": [
      "\u001B[0;31m---------------------------------------------------------------------------\u001B[0m",
      "\u001B[0;31mAttributeError\u001B[0m                            Traceback (most recent call last)",
      "File \u001B[0;32m~/opt/anaconda3/envs/mle/lib/python3.11/site-packages/yellowbrick/utils/wrapper.py:48\u001B[0m, in \u001B[0;36mWrapper.__getattr__\u001B[0;34m(self, attr)\u001B[0m\n\u001B[1;32m     47\u001B[0m \u001B[38;5;28;01mtry\u001B[39;00m:\n\u001B[0;32m---> 48\u001B[0m     \u001B[38;5;28;01mreturn\u001B[39;00m \u001B[38;5;28mgetattr\u001B[39m(\u001B[38;5;28mself\u001B[39m\u001B[38;5;241m.\u001B[39m_wrapped, attr)\n\u001B[1;32m     49\u001B[0m \u001B[38;5;28;01mexcept\u001B[39;00m \u001B[38;5;167;01mAttributeError\u001B[39;00m \u001B[38;5;28;01mas\u001B[39;00m e:\n",
      "\u001B[0;31mAttributeError\u001B[0m: 'Pipeline' object has no attribute 'target_type_'",
      "\nThe above exception was the direct cause of the following exception:\n",
      "\u001B[0;31mYellowbrickAttributeError\u001B[0m                 Traceback (most recent call last)",
      "Cell \u001B[0;32mIn[81], line 6\u001B[0m\n\u001B[1;32m      3\u001B[0m \u001B[38;5;66;03m# Instantiate the visualizer with the classification model\u001B[39;00m\n\u001B[1;32m      4\u001B[0m \u001B[38;5;66;03m# Create and display ROC AUC plot without re-fitting\u001B[39;00m\n\u001B[1;32m      5\u001B[0m visualizer \u001B[38;5;241m=\u001B[39m ROCAUC(nb_pipeline, classes\u001B[38;5;241m=\u001B[39mnp\u001B[38;5;241m.\u001B[39munique(y_train))\n\u001B[0;32m----> 6\u001B[0m visualizer\u001B[38;5;241m.\u001B[39mscore(X_test, y_test)  \u001B[38;5;66;03m# Evaluate the model on the test data\u001B[39;00m\n\u001B[1;32m      7\u001B[0m visualizer\u001B[38;5;241m.\u001B[39mshow()\n",
      "File \u001B[0;32m~/opt/anaconda3/envs/mle/lib/python3.11/site-packages/yellowbrick/classifier/rocauc.py:269\u001B[0m, in \u001B[0;36mROCAUC.score\u001B[0;34m(self, X, y)\u001B[0m\n\u001B[1;32m    266\u001B[0m \u001B[38;5;66;03m# Compute the predictions for the test data\u001B[39;00m\n\u001B[1;32m    267\u001B[0m y_pred \u001B[38;5;241m=\u001B[39m \u001B[38;5;28mself\u001B[39m\u001B[38;5;241m.\u001B[39m_get_y_scores(X)\n\u001B[0;32m--> 269\u001B[0m \u001B[38;5;28;01mif\u001B[39;00m \u001B[38;5;28mself\u001B[39m\u001B[38;5;241m.\u001B[39mtarget_type_ \u001B[38;5;241m==\u001B[39m BINARY:\n\u001B[1;32m    270\u001B[0m     \u001B[38;5;66;03m# For binary, per_class must be True to draw micro/macro curves\u001B[39;00m\n\u001B[1;32m    271\u001B[0m     \u001B[38;5;28;01mif\u001B[39;00m (\u001B[38;5;28mself\u001B[39m\u001B[38;5;241m.\u001B[39mmicro \u001B[38;5;129;01mor\u001B[39;00m \u001B[38;5;28mself\u001B[39m\u001B[38;5;241m.\u001B[39mmacro) \u001B[38;5;129;01mand\u001B[39;00m \u001B[38;5;129;01mnot\u001B[39;00m \u001B[38;5;28mself\u001B[39m\u001B[38;5;241m.\u001B[39mper_class:\n\u001B[1;32m    272\u001B[0m         \u001B[38;5;28;01mraise\u001B[39;00m ModelError(\n\u001B[1;32m    273\u001B[0m             \u001B[38;5;124m\"\u001B[39m\u001B[38;5;124mno curves will be drawn; \u001B[39m\u001B[38;5;124m\"\u001B[39m,\n\u001B[1;32m    274\u001B[0m             \u001B[38;5;124m\"\u001B[39m\u001B[38;5;124mset per_class=True or micro=False and macro=False.\u001B[39m\u001B[38;5;124m\"\u001B[39m,\n\u001B[1;32m    275\u001B[0m         )\n",
      "File \u001B[0;32m~/opt/anaconda3/envs/mle/lib/python3.11/site-packages/yellowbrick/utils/wrapper.py:50\u001B[0m, in \u001B[0;36mWrapper.__getattr__\u001B[0;34m(self, attr)\u001B[0m\n\u001B[1;32m     48\u001B[0m     \u001B[38;5;28;01mreturn\u001B[39;00m \u001B[38;5;28mgetattr\u001B[39m(\u001B[38;5;28mself\u001B[39m\u001B[38;5;241m.\u001B[39m_wrapped, attr)\n\u001B[1;32m     49\u001B[0m \u001B[38;5;28;01mexcept\u001B[39;00m \u001B[38;5;167;01mAttributeError\u001B[39;00m \u001B[38;5;28;01mas\u001B[39;00m e:\n\u001B[0;32m---> 50\u001B[0m     \u001B[38;5;28;01mraise\u001B[39;00m YellowbrickAttributeError(\u001B[38;5;124mf\u001B[39m\u001B[38;5;124m\"\u001B[39m\u001B[38;5;124mneither visualizer \u001B[39m\u001B[38;5;124m'\u001B[39m\u001B[38;5;132;01m{\u001B[39;00m\u001B[38;5;28mself\u001B[39m\u001B[38;5;241m.\u001B[39m\u001B[38;5;18m__class__\u001B[39m\u001B[38;5;241m.\u001B[39m\u001B[38;5;18m__name__\u001B[39m\u001B[38;5;132;01m}\u001B[39;00m\u001B[38;5;124m'\u001B[39m\u001B[38;5;124m nor wrapped estimator \u001B[39m\u001B[38;5;124m'\u001B[39m\u001B[38;5;132;01m{\u001B[39;00m\u001B[38;5;28mtype\u001B[39m(\u001B[38;5;28mself\u001B[39m\u001B[38;5;241m.\u001B[39m_wrapped)\u001B[38;5;241m.\u001B[39m\u001B[38;5;18m__name__\u001B[39m\u001B[38;5;132;01m}\u001B[39;00m\u001B[38;5;124m'\u001B[39m\u001B[38;5;124m have attribute \u001B[39m\u001B[38;5;124m'\u001B[39m\u001B[38;5;132;01m{\u001B[39;00mattr\u001B[38;5;132;01m}\u001B[39;00m\u001B[38;5;124m'\u001B[39m\u001B[38;5;124m\"\u001B[39m) \u001B[38;5;28;01mfrom\u001B[39;00m \u001B[38;5;21;01me\u001B[39;00m\n",
      "\u001B[0;31mYellowbrickAttributeError\u001B[0m: neither visualizer 'ROCAUC' nor wrapped estimator 'Pipeline' have attribute 'target_type_'"
     ]
    }
   ],
   "source": [
    "from yellowbrick.classifier import ROCAUC\n",
    "\n",
    "# Instantiate the visualizer with the classification model\n",
    "# Create and display ROC AUC plot without re-fitting\n",
    "visualizer = ROCAUC(nb_pipeline, classes=np.unique(y_train))\n",
    "visualizer.score(X_test, y_test)  # Evaluate the model on the test data\n",
    "visualizer.show()   "
   ],
   "metadata": {
    "collapsed": false,
    "ExecuteTime": {
     "end_time": "2024-01-02T13:50:16.474588Z",
     "start_time": "2024-01-02T13:50:16.354518Z"
    }
   },
   "id": "14028b3707383001"
  },
  {
   "cell_type": "code",
   "execution_count": 68,
   "outputs": [
    {
     "name": "stderr",
     "output_type": "stream",
     "text": [
      "/Users/witcheverly/opt/anaconda3/envs/mle/lib/python3.11/site-packages/yellowbrick/classifier/base.py:232: YellowbrickWarning: could not determine class_counts_ from previously fitted classifier\n",
      "  warnings.warn(\n"
     ]
    },
    {
     "data": {
      "text/plain": "0.5600255427841635"
     },
     "execution_count": 68,
     "metadata": {},
     "output_type": "execute_result"
    },
    {
     "data": {
      "text/plain": "<Figure size 800x550 with 1 Axes>",
      "image/png": "[encoded data removed]"
     },
     "metadata": {},
     "output_type": "display_data"
    }
   ],
   "source": [
    "from yellowbrick.classifier import ConfusionMatrix\n",
    "\n",
    "# create the ConfusionMatrix object\n",
    "cm = ConfusionMatrix(nb_pipeline, classes=nb_pipeline.classes_)# Use the model to make predictions on the test data\n",
    "\n",
    "cm.score(X_test, y_test)"
   ],
   "metadata": {
    "collapsed": false,
    "ExecuteTime": {
     "end_time": "2024-01-02T13:44:46.253436Z",
     "start_time": "2024-01-02T13:44:46.110966Z"
    }
   },
   "id": "81620f59c2faf744"
  },
  {
   "cell_type": "code",
   "execution_count": 67,
   "outputs": [
    {
     "name": "stderr",
     "output_type": "stream",
     "text": [
      "/Users/witcheverly/opt/anaconda3/envs/mle/lib/python3.11/site-packages/yellowbrick/classifier/base.py:232: YellowbrickWarning: could not determine class_counts_ from previously fitted classifier\n",
      "  warnings.warn(\n"
     ]
    },
    {
     "ename": "YellowbrickAttributeError",
     "evalue": "neither visualizer 'ROCAUC' nor wrapped estimator 'Pipeline' have attribute 'target_type_'",
     "output_type": "error",
     "traceback": [
      "\u001B[0;31m---------------------------------------------------------------------------\u001B[0m",
      "\u001B[0;31mAttributeError\u001B[0m                            Traceback (most recent call last)",
      "File \u001B[0;32m~/opt/anaconda3/envs/mle/lib/python3.11/site-packages/yellowbrick/utils/wrapper.py:48\u001B[0m, in \u001B[0;36mWrapper.__getattr__\u001B[0;34m(self, attr)\u001B[0m\n\u001B[1;32m     47\u001B[0m \u001B[38;5;28;01mtry\u001B[39;00m:\n\u001B[0;32m---> 48\u001B[0m     \u001B[38;5;28;01mreturn\u001B[39;00m \u001B[38;5;28mgetattr\u001B[39m(\u001B[38;5;28mself\u001B[39m\u001B[38;5;241m.\u001B[39m_wrapped, attr)\n\u001B[1;32m     49\u001B[0m \u001B[38;5;28;01mexcept\u001B[39;00m \u001B[38;5;167;01mAttributeError\u001B[39;00m \u001B[38;5;28;01mas\u001B[39;00m e:\n",
      "\u001B[0;31mAttributeError\u001B[0m: 'Pipeline' object has no attribute 'target_type_'",
      "\nThe above exception was the direct cause of the following exception:\n",
      "\u001B[0;31mYellowbrickAttributeError\u001B[0m                 Traceback (most recent call last)",
      "Cell \u001B[0;32mIn[67], line 2\u001B[0m\n\u001B[1;32m      1\u001B[0m visualizer \u001B[38;5;241m=\u001B[39m ROCAUC(nb_pipeline, classes\u001B[38;5;241m=\u001B[39mnb_pipeline\u001B[38;5;241m.\u001B[39mclasses_, is_fitted\u001B[38;5;241m=\u001B[39m\u001B[38;5;28;01mTrue\u001B[39;00m)\n\u001B[0;32m----> 2\u001B[0m visualizer\u001B[38;5;241m.\u001B[39mscore(X_test, y_test)\n\u001B[1;32m      3\u001B[0m visualizer\u001B[38;5;241m.\u001B[39mpoof()\n",
      "File \u001B[0;32m~/opt/anaconda3/envs/mle/lib/python3.11/site-packages/yellowbrick/classifier/rocauc.py:269\u001B[0m, in \u001B[0;36mROCAUC.score\u001B[0;34m(self, X, y)\u001B[0m\n\u001B[1;32m    266\u001B[0m \u001B[38;5;66;03m# Compute the predictions for the test data\u001B[39;00m\n\u001B[1;32m    267\u001B[0m y_pred \u001B[38;5;241m=\u001B[39m \u001B[38;5;28mself\u001B[39m\u001B[38;5;241m.\u001B[39m_get_y_scores(X)\n\u001B[0;32m--> 269\u001B[0m \u001B[38;5;28;01mif\u001B[39;00m \u001B[38;5;28mself\u001B[39m\u001B[38;5;241m.\u001B[39mtarget_type_ \u001B[38;5;241m==\u001B[39m BINARY:\n\u001B[1;32m    270\u001B[0m     \u001B[38;5;66;03m# For binary, per_class must be True to draw micro/macro curves\u001B[39;00m\n\u001B[1;32m    271\u001B[0m     \u001B[38;5;28;01mif\u001B[39;00m (\u001B[38;5;28mself\u001B[39m\u001B[38;5;241m.\u001B[39mmicro \u001B[38;5;129;01mor\u001B[39;00m \u001B[38;5;28mself\u001B[39m\u001B[38;5;241m.\u001B[39mmacro) \u001B[38;5;129;01mand\u001B[39;00m \u001B[38;5;129;01mnot\u001B[39;00m \u001B[38;5;28mself\u001B[39m\u001B[38;5;241m.\u001B[39mper_class:\n\u001B[1;32m    272\u001B[0m         \u001B[38;5;28;01mraise\u001B[39;00m ModelError(\n\u001B[1;32m    273\u001B[0m             \u001B[38;5;124m\"\u001B[39m\u001B[38;5;124mno curves will be drawn; \u001B[39m\u001B[38;5;124m\"\u001B[39m,\n\u001B[1;32m    274\u001B[0m             \u001B[38;5;124m\"\u001B[39m\u001B[38;5;124mset per_class=True or micro=False and macro=False.\u001B[39m\u001B[38;5;124m\"\u001B[39m,\n\u001B[1;32m    275\u001B[0m         )\n",
      "File \u001B[0;32m~/opt/anaconda3/envs/mle/lib/python3.11/site-packages/yellowbrick/utils/wrapper.py:50\u001B[0m, in \u001B[0;36mWrapper.__getattr__\u001B[0;34m(self, attr)\u001B[0m\n\u001B[1;32m     48\u001B[0m     \u001B[38;5;28;01mreturn\u001B[39;00m \u001B[38;5;28mgetattr\u001B[39m(\u001B[38;5;28mself\u001B[39m\u001B[38;5;241m.\u001B[39m_wrapped, attr)\n\u001B[1;32m     49\u001B[0m \u001B[38;5;28;01mexcept\u001B[39;00m \u001B[38;5;167;01mAttributeError\u001B[39;00m \u001B[38;5;28;01mas\u001B[39;00m e:\n\u001B[0;32m---> 50\u001B[0m     \u001B[38;5;28;01mraise\u001B[39;00m YellowbrickAttributeError(\u001B[38;5;124mf\u001B[39m\u001B[38;5;124m\"\u001B[39m\u001B[38;5;124mneither visualizer \u001B[39m\u001B[38;5;124m'\u001B[39m\u001B[38;5;132;01m{\u001B[39;00m\u001B[38;5;28mself\u001B[39m\u001B[38;5;241m.\u001B[39m\u001B[38;5;18m__class__\u001B[39m\u001B[38;5;241m.\u001B[39m\u001B[38;5;18m__name__\u001B[39m\u001B[38;5;132;01m}\u001B[39;00m\u001B[38;5;124m'\u001B[39m\u001B[38;5;124m nor wrapped estimator \u001B[39m\u001B[38;5;124m'\u001B[39m\u001B[38;5;132;01m{\u001B[39;00m\u001B[38;5;28mtype\u001B[39m(\u001B[38;5;28mself\u001B[39m\u001B[38;5;241m.\u001B[39m_wrapped)\u001B[38;5;241m.\u001B[39m\u001B[38;5;18m__name__\u001B[39m\u001B[38;5;132;01m}\u001B[39;00m\u001B[38;5;124m'\u001B[39m\u001B[38;5;124m have attribute \u001B[39m\u001B[38;5;124m'\u001B[39m\u001B[38;5;132;01m{\u001B[39;00mattr\u001B[38;5;132;01m}\u001B[39;00m\u001B[38;5;124m'\u001B[39m\u001B[38;5;124m\"\u001B[39m) \u001B[38;5;28;01mfrom\u001B[39;00m \u001B[38;5;21;01me\u001B[39;00m\n",
      "\u001B[0;31mYellowbrickAttributeError\u001B[0m: neither visualizer 'ROCAUC' nor wrapped estimator 'Pipeline' have attribute 'target_type_'"
     ]
    }
   ],
   "source": [
    "visualizer = ROCAUC(nb_pipeline, classes=nb_pipeline.classes_, is_fitted=True)\n",
    "visualizer.score(X_test, y_test)\n",
    "visualizer.poof()"
   ],
   "metadata": {
    "collapsed": false,
    "ExecuteTime": {
     "end_time": "2024-01-02T13:44:22.198508Z",
     "start_time": "2024-01-02T13:44:22.116044Z"
    }
   },
   "id": "133962242ebb4dc3"
  },
  {
   "cell_type": "code",
   "execution_count": 54,
   "outputs": [
    {
     "ename": "YellowbrickAttributeError",
     "evalue": "neither visualizer 'ClassificationReport' nor wrapped estimator 'Pipeline' have attribute 'score_nb'",
     "output_type": "error",
     "traceback": [
      "\u001B[0;31m---------------------------------------------------------------------------\u001B[0m",
      "\u001B[0;31mAttributeError\u001B[0m                            Traceback (most recent call last)",
      "File \u001B[0;32m~/opt/anaconda3/envs/mle/lib/python3.11/site-packages/yellowbrick/utils/wrapper.py:48\u001B[0m, in \u001B[0;36mWrapper.__getattr__\u001B[0;34m(self, attr)\u001B[0m\n\u001B[1;32m     47\u001B[0m \u001B[38;5;28;01mtry\u001B[39;00m:\n\u001B[0;32m---> 48\u001B[0m     \u001B[38;5;28;01mreturn\u001B[39;00m \u001B[38;5;28mgetattr\u001B[39m(\u001B[38;5;28mself\u001B[39m\u001B[38;5;241m.\u001B[39m_wrapped, attr)\n\u001B[1;32m     49\u001B[0m \u001B[38;5;28;01mexcept\u001B[39;00m \u001B[38;5;167;01mAttributeError\u001B[39;00m \u001B[38;5;28;01mas\u001B[39;00m e:\n",
      "\u001B[0;31mAttributeError\u001B[0m: 'Pipeline' object has no attribute 'score_nb'",
      "\nThe above exception was the direct cause of the following exception:\n",
      "\u001B[0;31mYellowbrickAttributeError\u001B[0m                 Traceback (most recent call last)",
      "Cell \u001B[0;32mIn[54], line 2\u001B[0m\n\u001B[1;32m      1\u001B[0m visualizer \u001B[38;5;241m=\u001B[39m ClassificationReport(nb_pipeline, classes\u001B[38;5;241m=\u001B[39mnb_pipeline\u001B[38;5;241m.\u001B[39mclasses_, is_fitted\u001B[38;5;241m=\u001B[39m\u001B[38;5;28;01mTrue\u001B[39;00m)\n\u001B[0;32m----> 2\u001B[0m visualizer\u001B[38;5;241m.\u001B[39mscore_nb(X_test, y_test)\n",
      "File \u001B[0;32m~/opt/anaconda3/envs/mle/lib/python3.11/site-packages/yellowbrick/utils/wrapper.py:50\u001B[0m, in \u001B[0;36mWrapper.__getattr__\u001B[0;34m(self, attr)\u001B[0m\n\u001B[1;32m     48\u001B[0m     \u001B[38;5;28;01mreturn\u001B[39;00m \u001B[38;5;28mgetattr\u001B[39m(\u001B[38;5;28mself\u001B[39m\u001B[38;5;241m.\u001B[39m_wrapped, attr)\n\u001B[1;32m     49\u001B[0m \u001B[38;5;28;01mexcept\u001B[39;00m \u001B[38;5;167;01mAttributeError\u001B[39;00m \u001B[38;5;28;01mas\u001B[39;00m e:\n\u001B[0;32m---> 50\u001B[0m     \u001B[38;5;28;01mraise\u001B[39;00m YellowbrickAttributeError(\u001B[38;5;124mf\u001B[39m\u001B[38;5;124m\"\u001B[39m\u001B[38;5;124mneither visualizer \u001B[39m\u001B[38;5;124m'\u001B[39m\u001B[38;5;132;01m{\u001B[39;00m\u001B[38;5;28mself\u001B[39m\u001B[38;5;241m.\u001B[39m\u001B[38;5;18m__class__\u001B[39m\u001B[38;5;241m.\u001B[39m\u001B[38;5;18m__name__\u001B[39m\u001B[38;5;132;01m}\u001B[39;00m\u001B[38;5;124m'\u001B[39m\u001B[38;5;124m nor wrapped estimator \u001B[39m\u001B[38;5;124m'\u001B[39m\u001B[38;5;132;01m{\u001B[39;00m\u001B[38;5;28mtype\u001B[39m(\u001B[38;5;28mself\u001B[39m\u001B[38;5;241m.\u001B[39m_wrapped)\u001B[38;5;241m.\u001B[39m\u001B[38;5;18m__name__\u001B[39m\u001B[38;5;132;01m}\u001B[39;00m\u001B[38;5;124m'\u001B[39m\u001B[38;5;124m have attribute \u001B[39m\u001B[38;5;124m'\u001B[39m\u001B[38;5;132;01m{\u001B[39;00mattr\u001B[38;5;132;01m}\u001B[39;00m\u001B[38;5;124m'\u001B[39m\u001B[38;5;124m\"\u001B[39m) \u001B[38;5;28;01mfrom\u001B[39;00m \u001B[38;5;21;01me\u001B[39;00m\n",
      "\u001B[0;31mYellowbrickAttributeError\u001B[0m: neither visualizer 'ClassificationReport' nor wrapped estimator 'Pipeline' have attribute 'score_nb'"
     ]
    }
   ],
   "source": [
    "visualizer = ClassificationReport(nb_pipeline, classes=nb_pipeline.classes_, is_fitted=True)\n",
    "visualizer.score_nb(X_test, y_test)\n"
   ],
   "metadata": {
    "collapsed": false,
    "ExecuteTime": {
     "end_time": "2024-01-02T13:40:47.079918Z",
     "start_time": "2024-01-02T13:40:47.066294Z"
    }
   },
   "id": "6c3a653602a357c8"
  },
  {
   "cell_type": "markdown",
   "source": [],
   "metadata": {
    "collapsed": false
   },
   "id": "3542a13c2f284b6b"
  }
 ],
 "metadata": {
  "kernelspec": {
   "display_name": "Python 3",
   "language": "python",
   "name": "python3"
  },
  "language_info": {
   "codemirror_mode": {
    "name": "ipython",
    "version": 2
   },
   "file_extension": ".py",
   "mimetype": "text/x-python",
   "name": "python",
   "nbconvert_exporter": "python",
   "pygments_lexer": "ipython2",
   "version": "2.7.6"
  }
 },
 "nbformat": 4,
 "nbformat_minor": 5
}

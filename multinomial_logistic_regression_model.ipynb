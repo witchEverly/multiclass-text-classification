{
 "cells": [
  {
   "cell_type": "code",
   "execution_count": 1,
   "outputs": [],
   "source": [
    "# scikit version\n"
   ],
   "metadata": {
    "collapsed": false,
    "ExecuteTime": {
     "end_time": "2024-01-03T17:40:29.859956Z",
     "start_time": "2024-01-03T17:40:29.855227Z"
    }
   },
   "id": "59af36d36e27fb3"
  },
  {
   "cell_type": "code",
   "execution_count": 2,
   "id": "initial_id",
   "metadata": {
    "collapsed": true,
    "ExecuteTime": {
     "end_time": "2024-01-03T17:40:30.505053Z",
     "start_time": "2024-01-03T17:40:29.860830Z"
    }
   },
   "outputs": [],
   "source": [
    "from utilities import *\n",
    "from os.path import expanduser\n",
    "\n",
    "from sklearn.model_selection import train_test_split\n",
    "from sklearn.pipeline import Pipeline\n",
    "from sklearn.feature_extraction.text import TfidfVectorizer\n",
    "from sklearn.linear_model import LogisticRegression\n",
    "from sklearn.metrics import classification_report\n",
    "from sklearn.preprocessing import StandardScaler"
   ]
  },
  {
   "cell_type": "code",
   "execution_count": 3,
   "outputs": [],
   "source": [
    "path = expanduser('~/data/Women Dresses Reviews Dataset .csv')\n",
    "data = pd.read_csv(path)"
   ],
   "metadata": {
    "collapsed": false,
    "ExecuteTime": {
     "end_time": "2024-01-03T17:40:30.586823Z",
     "start_time": "2024-01-03T17:40:30.505864Z"
    }
   },
   "id": "3a2bd44b3f4e76e4"
  },
  {
   "cell_type": "code",
   "execution_count": 4,
   "outputs": [],
   "source": [
    "# data.rating.info(), print(), data.review_text.info()"
   ],
   "metadata": {
    "collapsed": false,
    "ExecuteTime": {
     "end_time": "2024-01-03T17:40:30.590564Z",
     "start_time": "2024-01-03T17:40:30.586890Z"
    }
   },
   "id": "23fc900dcc49298a"
  },
  {
   "cell_type": "code",
   "execution_count": 5,
   "outputs": [
    {
     "data": {
      "text/plain": "   s.no  age   division_name department_name class_name  clothing_id  \\\n0     0   40         General         Bottoms      Jeans         1028   \n1     1   62  General Petite            Tops    Blouses          850   \n2     2   47  General Petite         Bottoms     Skirts          993   \n3     3   45  General Petite         Bottoms      Pants         1068   \n4     4   37       Initmates        Intimate       Swim           24   \n\n                    title                                        review_text  \\\n0    Amazing fit and wash  Like other reviewers i was hesitant to spend t...   \n1      Lovely and unique!  As is true of a bunch of the fall clothing pho...   \n2                     Meh  I so wanted this skirt to work, love the desig...   \n3                     Wow  Love love this! i was hesitant to buy this at ...   \n4  Great for bigger busts  I absolutely love the retro look of this swims...   \n\n   alike_feedback_count  rating  recommend_index   \\\n0                     0       5                 1   \n1                    12       5                 1   \n2                     3       1                 0   \n3                     0       5                 1   \n4                     0       5                 1   \n\n                                      cleaned_review  \\\n0  [like, review, hesit, spend, pair, jean, purch...   \n1  [true, bunch, fall, cloth, photo, color, total...   \n2  [want, skirt, work, love, design, way, way, lo...   \n3  [love, love, hesit, buy, review, big, wasn, su...   \n4  [absolut, love, retro, look, swimsuit, saw, bl...   \n\n                               cleaned_review_JOINED  \n0  like review hesit spend pair jean purchas reta...  \n1  true bunch fall cloth photo color total wash m...  \n2  want skirt work love design way way long small...  \n3  love love hesit buy review big wasn sure kind ...  \n4  absolut love retro look swimsuit saw blogger a...  ",
      "text/html": "<div>\n<style scoped>\n    .dataframe tbody tr th:only-of-type {\n        vertical-align: middle;\n    }\n\n    .dataframe tbody tr th {\n        vertical-align: top;\n    }\n\n    .dataframe thead th {\n        text-align: right;\n    }\n</style>\n<table border=\"1\" class=\"dataframe\">\n  <thead>\n    <tr style=\"text-align: right;\">\n      <th></th>\n      <th>s.no</th>\n      <th>age</th>\n      <th>division_name</th>\n      <th>department_name</th>\n      <th>class_name</th>\n      <th>clothing_id</th>\n      <th>title</th>\n      <th>review_text</th>\n      <th>alike_feedback_count</th>\n      <th>rating</th>\n      <th>recommend_index</th>\n      <th>cleaned_review</th>\n      <th>cleaned_review_JOINED</th>\n    </tr>\n  </thead>\n  <tbody>\n    <tr>\n      <th>0</th>\n      <td>0</td>\n      <td>40</td>\n      <td>General</td>\n      <td>Bottoms</td>\n      <td>Jeans</td>\n      <td>1028</td>\n      <td>Amazing fit and wash</td>\n      <td>Like other reviewers i was hesitant to spend t...</td>\n      <td>0</td>\n      <td>5</td>\n      <td>1</td>\n      <td>[like, review, hesit, spend, pair, jean, purch...</td>\n      <td>like review hesit spend pair jean purchas reta...</td>\n    </tr>\n    <tr>\n      <th>1</th>\n      <td>1</td>\n      <td>62</td>\n      <td>General Petite</td>\n      <td>Tops</td>\n      <td>Blouses</td>\n      <td>850</td>\n      <td>Lovely and unique!</td>\n      <td>As is true of a bunch of the fall clothing pho...</td>\n      <td>12</td>\n      <td>5</td>\n      <td>1</td>\n      <td>[true, bunch, fall, cloth, photo, color, total...</td>\n      <td>true bunch fall cloth photo color total wash m...</td>\n    </tr>\n    <tr>\n      <th>2</th>\n      <td>2</td>\n      <td>47</td>\n      <td>General Petite</td>\n      <td>Bottoms</td>\n      <td>Skirts</td>\n      <td>993</td>\n      <td>Meh</td>\n      <td>I so wanted this skirt to work, love the desig...</td>\n      <td>3</td>\n      <td>1</td>\n      <td>0</td>\n      <td>[want, skirt, work, love, design, way, way, lo...</td>\n      <td>want skirt work love design way way long small...</td>\n    </tr>\n    <tr>\n      <th>3</th>\n      <td>3</td>\n      <td>45</td>\n      <td>General Petite</td>\n      <td>Bottoms</td>\n      <td>Pants</td>\n      <td>1068</td>\n      <td>Wow</td>\n      <td>Love love this! i was hesitant to buy this at ...</td>\n      <td>0</td>\n      <td>5</td>\n      <td>1</td>\n      <td>[love, love, hesit, buy, review, big, wasn, su...</td>\n      <td>love love hesit buy review big wasn sure kind ...</td>\n    </tr>\n    <tr>\n      <th>4</th>\n      <td>4</td>\n      <td>37</td>\n      <td>Initmates</td>\n      <td>Intimate</td>\n      <td>Swim</td>\n      <td>24</td>\n      <td>Great for bigger busts</td>\n      <td>I absolutely love the retro look of this swims...</td>\n      <td>0</td>\n      <td>5</td>\n      <td>1</td>\n      <td>[absolut, love, retro, look, swimsuit, saw, bl...</td>\n      <td>absolut love retro look swimsuit saw blogger a...</td>\n    </tr>\n  </tbody>\n</table>\n</div>"
     },
     "execution_count": 5,
     "metadata": {},
     "output_type": "execute_result"
    }
   ],
   "source": [
    "data['review_text'] = data['review_text'].fillna('')\n",
    "\n",
    "data['cleaned_review'] = data['review_text']\\\n",
    "    .apply(lambda x: tokenize(x))\\\n",
    "    .apply(lambda x: create_stemwords(x))\n",
    "\n",
    "# sklearn throws an error if the data isn't string\n",
    "data['cleaned_review_JOINED'] = data['cleaned_review'].apply(lambda x: ' '.join(x))\n",
    "\n",
    "data.head()"
   ],
   "metadata": {
    "collapsed": false,
    "ExecuteTime": {
     "end_time": "2024-01-03T17:40:39.191251Z",
     "start_time": "2024-01-03T17:40:30.591893Z"
    }
   },
   "id": "390268c8255132ea"
  },
  {
   "cell_type": "code",
   "execution_count": 6,
   "outputs": [],
   "source": [
    "X = data['cleaned_review_JOINED']\n",
    "y = data['rating']"
   ],
   "metadata": {
    "collapsed": false,
    "ExecuteTime": {
     "end_time": "2024-01-03T17:40:39.191702Z",
     "start_time": "2024-01-03T17:40:39.189049Z"
    }
   },
   "id": "70190ba1386b0fc9"
  },
  {
   "cell_type": "markdown",
   "source": [
    "# LOGISTIC REGRESSION"
   ],
   "metadata": {
    "collapsed": false
   },
   "id": "582882de155284"
  },
  {
   "cell_type": "code",
   "execution_count": 7,
   "outputs": [],
   "source": [
    "# encode the target variable for yellowbrick\n",
    "from sklearn.preprocessing import LabelEncoder\n",
    "le = LabelEncoder()\n",
    "y = le.fit_transform(y)"
   ],
   "metadata": {
    "collapsed": false,
    "ExecuteTime": {
     "end_time": "2024-01-03T17:40:39.195587Z",
     "start_time": "2024-01-03T17:40:39.191738Z"
    }
   },
   "id": "d5874c8ccef4ab0e"
  },
  {
   "cell_type": "code",
   "execution_count": 8,
   "outputs": [],
   "source": [
    "# split the data\n",
    "X_train, X_test, y_train, y_test = train_test_split(X, y, test_size=0.2, random_state=42, stratify=y)"
   ],
   "metadata": {
    "collapsed": false,
    "ExecuteTime": {
     "end_time": "2024-01-03T17:40:39.201647Z",
     "start_time": "2024-01-03T17:40:39.194568Z"
    }
   },
   "id": "c0661a7c758de110"
  },
  {
   "cell_type": "code",
   "execution_count": 9,
   "outputs": [],
   "source": [
    "from sklearn.utils import compute_class_weight\n",
    "\n",
    "classes = np.unique(y)\n",
    "weights = compute_class_weight(\n",
    "    class_weight='balanced', classes=classes, y=y\n",
    ")\n",
    "\n",
    "class_weights = dict(zip(classes, weights))"
   ],
   "metadata": {
    "collapsed": false,
    "ExecuteTime": {
     "end_time": "2024-01-03T17:40:39.208451Z",
     "start_time": "2024-01-03T17:40:39.202492Z"
    }
   },
   "id": "c3e05a691a3ae53a"
  },
  {
   "cell_type": "code",
   "execution_count": 10,
   "outputs": [
    {
     "name": "stdout",
     "output_type": "stream",
     "text": [
      "              precision    recall  f1-score   support\n",
      "\n",
      "           0       0.23      0.44      0.30       168\n",
      "           1       0.22      0.05      0.08       313\n",
      "           2       0.32      0.37      0.35       574\n",
      "           3       0.37      0.41      0.39      1016\n",
      "           4       0.79      0.75      0.77      2627\n",
      "\n",
      "    accuracy                           0.57      4698\n",
      "   macro avg       0.39      0.40      0.38      4698\n",
      "weighted avg       0.58      0.57      0.57      4698\n"
     ]
    },
    {
     "name": "stderr",
     "output_type": "stream",
     "text": [
      "/Users/witcheverly/opt/anaconda3/envs/mle/lib/python3.11/site-packages/sklearn/linear_model/_sag.py:350: ConvergenceWarning: The max_iter was reached which means the coef_ did not converge\n",
      "  warnings.warn(\n"
     ]
    }
   ],
   "source": [
    "logreg_params = {'C': 10,\n",
    "                 'class_weight': class_weights,\n",
    "                 'solver': 'saga',\n",
    "                 'penalty': 'l2',\n",
    "                 'multi_class': 'multinomial',\n",
    "                 'random_state': 42,\n",
    "                 'max_iter': 1000}\n",
    "\n",
    "tfidf_params = {'smooth_idf': True,\n",
    "                'max_df': 0.5}\n",
    "\n",
    "# Scale if using regularization\n",
    "pipeline = Pipeline([\n",
    "    ('tfidf', TfidfVectorizer(**tfidf_params)),\n",
    "   # ('preprocess', StandardScaler(with_mean=False)),\n",
    "    ('logreg', LogisticRegression(**logreg_params))]\n",
    "    )\n",
    "\n",
    "pipeline.fit(X_train, y_train)\n",
    "predictions = pipeline.predict(X_test)\n",
    "print(classification_report(y_test, predictions))"
   ],
   "metadata": {
    "collapsed": false,
    "ExecuteTime": {
     "end_time": "2024-01-03T17:40:48.739611Z",
     "start_time": "2024-01-03T17:40:39.219561Z"
    }
   },
   "id": "d4837e121948fa26"
  },
  {
   "cell_type": "code",
   "execution_count": null,
   "outputs": [
    {
     "name": "stderr",
     "output_type": "stream",
     "text": [
      "/Users/witcheverly/opt/anaconda3/envs/mle/lib/python3.11/site-packages/sklearn/linear_model/_sag.py:350: ConvergenceWarning: The max_iter was reached which means the coef_ did not converge\n",
      "  warnings.warn(\n",
      "/Users/witcheverly/opt/anaconda3/envs/mle/lib/python3.11/site-packages/sklearn/linear_model/_sag.py:350: ConvergenceWarning: The max_iter was reached which means the coef_ did not converge\n",
      "  warnings.warn(\n",
      "/Users/witcheverly/opt/anaconda3/envs/mle/lib/python3.11/site-packages/sklearn/linear_model/_sag.py:350: ConvergenceWarning: The max_iter was reached which means the coef_ did not converge\n",
      "  warnings.warn(\n",
      "/Users/witcheverly/opt/anaconda3/envs/mle/lib/python3.11/site-packages/sklearn/linear_model/_sag.py:350: ConvergenceWarning: The max_iter was reached which means the coef_ did not converge\n",
      "  warnings.warn(\n",
      "/Users/witcheverly/opt/anaconda3/envs/mle/lib/python3.11/site-packages/sklearn/linear_model/_sag.py:350: ConvergenceWarning: The max_iter was reached which means the coef_ did not converge\n",
      "  warnings.warn(\n",
      "/Users/witcheverly/opt/anaconda3/envs/mle/lib/python3.11/site-packages/sklearn/linear_model/_sag.py:350: ConvergenceWarning: The max_iter was reached which means the coef_ did not converge\n",
      "  warnings.warn(\n",
      "/Users/witcheverly/opt/anaconda3/envs/mle/lib/python3.11/site-packages/sklearn/linear_model/_sag.py:350: ConvergenceWarning: The max_iter was reached which means the coef_ did not converge\n",
      "  warnings.warn(\n",
      "/Users/witcheverly/opt/anaconda3/envs/mle/lib/python3.11/site-packages/sklearn/linear_model/_sag.py:350: ConvergenceWarning: The max_iter was reached which means the coef_ did not converge\n",
      "  warnings.warn(\n",
      "/Users/witcheverly/opt/anaconda3/envs/mle/lib/python3.11/site-packages/sklearn/linear_model/_sag.py:350: ConvergenceWarning: The max_iter was reached which means the coef_ did not converge\n",
      "  warnings.warn(\n"
     ]
    }
   ],
   "source": [
    "from sklearn.model_selection import GridSearchCV\n",
    "\n",
    "# Define the parameter grid\n",
    "param_grid = {\n",
    "    'tfidf__max_df': [0.5, 0.75, 1.0],\n",
    "    'logreg__C': [0.1, 1, 10]\n",
    "}\n",
    "\n",
    "# Initialize GridSearchCV\n",
    "grid_search = GridSearchCV(pipeline, param_grid, cv=5, scoring='f1_weighted')\n",
    "\n",
    "# Fit on data\n",
    "grid_search.fit(X, y)\n",
    "\n",
    "print(\"Best parameters:\", grid_search.best_params_)\n",
    "print(\"Best cross-validation score:\", grid_search.best_score_)"
   ],
   "metadata": {
    "collapsed": false,
    "is_executing": true,
    "ExecuteTime": {
     "start_time": "2024-01-03T17:40:48.737788Z"
    }
   },
   "id": "f8d503eb1070278a"
  },
  {
   "cell_type": "markdown",
   "source": [],
   "metadata": {
    "collapsed": false
   },
   "id": "b43ca1900070443"
  },
  {
   "cell_type": "code",
   "execution_count": null,
   "outputs": [],
   "source": [
    "from sklearn.model_selection import cross_val_score\n",
    "\n",
    "scores = cross_val_score(pipeline, X, y, scoring='f1_weighted') \n",
    "print(\"Cross-validation scores:\", scores)\n",
    "print(\"Mean score:\", scores.mean())\n",
    "\n",
    "\n",
    "from sklearn.model_selection import cross_validate\n",
    "\n",
    "scores = cross_validate(\n",
    "    pipeline, X, y, scoring=('precision', 'recall', 'f1_weighted'), return_train_score=True)"
   ],
   "metadata": {
    "collapsed": false
   },
   "id": "b1322a41a9b7d505"
  },
  {
   "cell_type": "code",
   "execution_count": null,
   "outputs": [],
   "source": [
    "from sklearn.model_selection import GridSearchCV\n",
    "\n",
    "# Define the parameter grid\n",
    "param_grid = {\n",
    "    'tfidf__max_df': [0.5, 0.75, 1.0],\n",
    "    'logreg__C': [0.1, 1, 10]\n",
    "}\n",
    "\n",
    "# Initialize GridSearchCV\n",
    "grid_search = GridSearchCV(pipeline, param_grid, cv=3)\n",
    "\n",
    "# Fit on data\n",
    "grid_search.fit(X, y)\n",
    "\n",
    "print(\"Best parameters:\", grid_search.best_params_)\n",
    "print(\"Best cross-validation score:\", grid_search.best_score_)"
   ],
   "metadata": {
    "collapsed": false
   },
   "id": "6cb05647bd9e4fd2"
  },
  {
   "cell_type": "code",
   "execution_count": null,
   "outputs": [],
   "source": [
    "# yellowbrick precision recall curve\n",
    "from yellowbrick.classifier import PrecisionRecallCurve\n",
    "\n",
    "viz = PrecisionRecallCurve(pipeline)\n",
    "viz.fit(X_train, y_train)\n",
    "viz.score(X_test, y_test)"
   ],
   "metadata": {
    "collapsed": false
   },
   "id": "78a2970ead81d04c"
  },
  {
   "cell_type": "markdown",
   "source": [
    "# LOGISTIC REGRESSION CV"
   ],
   "metadata": {
    "collapsed": false
   },
   "id": "50c30a5638425c4b"
  },
  {
   "cell_type": "code",
   "execution_count": null,
   "outputs": [],
   "source": [
    "from sklearn.linear_model import LogisticRegressionCV\n",
    "from sklearn.model_selection import StratifiedKFold\n",
    "from sklearn.metrics import classification_report\n",
    "\n",
    "# import cross validation score\n",
    "from sklearn.model_selection import cross_val_score, cross_val_predict, cross_validate\n"
   ],
   "metadata": {
    "collapsed": false
   },
   "id": "e2c0661c84903d74"
  }
 ],
 "metadata": {
  "kernelspec": {
   "display_name": "Python 3",
   "language": "python",
   "name": "python3"
  },
  "language_info": {
   "codemirror_mode": {
    "name": "ipython",
    "version": 2
   },
   "file_extension": ".py",
   "mimetype": "text/x-python",
   "name": "python",
   "nbconvert_exporter": "python",
   "pygments_lexer": "ipython2",
   "version": "2.7.6"
  }
 },
 "nbformat": 4,
 "nbformat_minor": 5
}

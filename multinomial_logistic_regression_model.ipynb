{
 "cells": [
  {
   "cell_type": "code",
   "execution_count": 3,
   "outputs": [],
   "source": [
    "# scikit version\n"
   ],
   "metadata": {
    "collapsed": false,
    "ExecuteTime": {
     "end_time": "2024-01-03T09:24:51.312536Z",
     "start_time": "2024-01-03T09:24:51.291697Z"
    }
   },
   "id": "59af36d36e27fb3"
  },
  {
   "cell_type": "code",
   "execution_count": 4,
   "id": "initial_id",
   "metadata": {
    "collapsed": true,
    "ExecuteTime": {
     "end_time": "2024-01-03T09:24:51.616480Z",
     "start_time": "2024-01-03T09:24:51.296281Z"
    }
   },
   "outputs": [],
   "source": [
    "from utilities import *\n",
    "from os.path import expanduser\n",
    "\n",
    "from sklearn.model_selection import train_test_split\n",
    "from sklearn.pipeline import Pipeline\n",
    "from sklearn.feature_extraction.text import TfidfVectorizer\n",
    "from sklearn.linear_model import LogisticRegression\n",
    "from sklearn.metrics import classification_report\n",
    "from sklearn.preprocessing import StandardScaler"
   ]
  },
  {
   "cell_type": "code",
   "execution_count": 5,
   "outputs": [],
   "source": [
    "path = expanduser('~/data/Women Dresses Reviews Dataset .csv')\n",
    "data = pd.read_csv(path)"
   ],
   "metadata": {
    "collapsed": false,
    "ExecuteTime": {
     "end_time": "2024-01-03T09:24:51.698308Z",
     "start_time": "2024-01-03T09:24:51.617476Z"
    }
   },
   "id": "3a2bd44b3f4e76e4"
  },
  {
   "cell_type": "code",
   "execution_count": 6,
   "outputs": [],
   "source": [
    "# data.rating.info(), print(), data.review_text.info()"
   ],
   "metadata": {
    "collapsed": false,
    "ExecuteTime": {
     "end_time": "2024-01-03T09:24:51.704072Z",
     "start_time": "2024-01-03T09:24:51.698695Z"
    }
   },
   "id": "23fc900dcc49298a"
  },
  {
   "cell_type": "code",
   "execution_count": 7,
   "outputs": [
    {
     "data": {
      "text/plain": "   s.no  age   division_name department_name class_name  clothing_id  \\\n0     0   40         General         Bottoms      Jeans         1028   \n1     1   62  General Petite            Tops    Blouses          850   \n2     2   47  General Petite         Bottoms     Skirts          993   \n3     3   45  General Petite         Bottoms      Pants         1068   \n4     4   37       Initmates        Intimate       Swim           24   \n\n                    title                                        review_text  \\\n0    Amazing fit and wash  Like other reviewers i was hesitant to spend t...   \n1      Lovely and unique!  As is true of a bunch of the fall clothing pho...   \n2                     Meh  I so wanted this skirt to work, love the desig...   \n3                     Wow  Love love this! i was hesitant to buy this at ...   \n4  Great for bigger busts  I absolutely love the retro look of this swims...   \n\n   alike_feedback_count  rating  recommend_index   \\\n0                     0       5                 1   \n1                    12       5                 1   \n2                     3       1                 0   \n3                     0       5                 1   \n4                     0       5                 1   \n\n                                      cleaned_review  \\\n0  [like, review, hesit, spend, pair, jean, purch...   \n1  [true, bunch, fall, cloth, photo, color, total...   \n2  [want, skirt, work, love, design, way, way, lo...   \n3  [love, love, hesit, buy, review, big, wasn, su...   \n4  [absolut, love, retro, look, swimsuit, saw, bl...   \n\n                               cleaned_review_JOINED  \n0  like review hesit spend pair jean purchas reta...  \n1  true bunch fall cloth photo color total wash m...  \n2  want skirt work love design way way long small...  \n3  love love hesit buy review big wasn sure kind ...  \n4  absolut love retro look swimsuit saw blogger a...  ",
      "text/html": "<div>\n<style scoped>\n    .dataframe tbody tr th:only-of-type {\n        vertical-align: middle;\n    }\n\n    .dataframe tbody tr th {\n        vertical-align: top;\n    }\n\n    .dataframe thead th {\n        text-align: right;\n    }\n</style>\n<table border=\"1\" class=\"dataframe\">\n  <thead>\n    <tr style=\"text-align: right;\">\n      <th></th>\n      <th>s.no</th>\n      <th>age</th>\n      <th>division_name</th>\n      <th>department_name</th>\n      <th>class_name</th>\n      <th>clothing_id</th>\n      <th>title</th>\n      <th>review_text</th>\n      <th>alike_feedback_count</th>\n      <th>rating</th>\n      <th>recommend_index</th>\n      <th>cleaned_review</th>\n      <th>cleaned_review_JOINED</th>\n    </tr>\n  </thead>\n  <tbody>\n    <tr>\n      <th>0</th>\n      <td>0</td>\n      <td>40</td>\n      <td>General</td>\n      <td>Bottoms</td>\n      <td>Jeans</td>\n      <td>1028</td>\n      <td>Amazing fit and wash</td>\n      <td>Like other reviewers i was hesitant to spend t...</td>\n      <td>0</td>\n      <td>5</td>\n      <td>1</td>\n      <td>[like, review, hesit, spend, pair, jean, purch...</td>\n      <td>like review hesit spend pair jean purchas reta...</td>\n    </tr>\n    <tr>\n      <th>1</th>\n      <td>1</td>\n      <td>62</td>\n      <td>General Petite</td>\n      <td>Tops</td>\n      <td>Blouses</td>\n      <td>850</td>\n      <td>Lovely and unique!</td>\n      <td>As is true of a bunch of the fall clothing pho...</td>\n      <td>12</td>\n      <td>5</td>\n      <td>1</td>\n      <td>[true, bunch, fall, cloth, photo, color, total...</td>\n      <td>true bunch fall cloth photo color total wash m...</td>\n    </tr>\n    <tr>\n      <th>2</th>\n      <td>2</td>\n      <td>47</td>\n      <td>General Petite</td>\n      <td>Bottoms</td>\n      <td>Skirts</td>\n      <td>993</td>\n      <td>Meh</td>\n      <td>I so wanted this skirt to work, love the desig...</td>\n      <td>3</td>\n      <td>1</td>\n      <td>0</td>\n      <td>[want, skirt, work, love, design, way, way, lo...</td>\n      <td>want skirt work love design way way long small...</td>\n    </tr>\n    <tr>\n      <th>3</th>\n      <td>3</td>\n      <td>45</td>\n      <td>General Petite</td>\n      <td>Bottoms</td>\n      <td>Pants</td>\n      <td>1068</td>\n      <td>Wow</td>\n      <td>Love love this! i was hesitant to buy this at ...</td>\n      <td>0</td>\n      <td>5</td>\n      <td>1</td>\n      <td>[love, love, hesit, buy, review, big, wasn, su...</td>\n      <td>love love hesit buy review big wasn sure kind ...</td>\n    </tr>\n    <tr>\n      <th>4</th>\n      <td>4</td>\n      <td>37</td>\n      <td>Initmates</td>\n      <td>Intimate</td>\n      <td>Swim</td>\n      <td>24</td>\n      <td>Great for bigger busts</td>\n      <td>I absolutely love the retro look of this swims...</td>\n      <td>0</td>\n      <td>5</td>\n      <td>1</td>\n      <td>[absolut, love, retro, look, swimsuit, saw, bl...</td>\n      <td>absolut love retro look swimsuit saw blogger a...</td>\n    </tr>\n  </tbody>\n</table>\n</div>"
     },
     "execution_count": 7,
     "metadata": {},
     "output_type": "execute_result"
    }
   ],
   "source": [
    "data['review_text'] = data['review_text'].fillna('')\n",
    "\n",
    "data['cleaned_review'] = data['review_text']\\\n",
    "    .apply(lambda x: tokenize(x))\\\n",
    "    .apply(lambda x: create_stemwords(x))\n",
    "\n",
    "# sklearn throws an error if the data isn't string\n",
    "data['cleaned_review_JOINED'] = data['cleaned_review'].apply(lambda x: ' '.join(x))\n",
    "\n",
    "data.head()"
   ],
   "metadata": {
    "collapsed": false,
    "ExecuteTime": {
     "end_time": "2024-01-03T09:25:00.325735Z",
     "start_time": "2024-01-03T09:24:51.704461Z"
    }
   },
   "id": "390268c8255132ea"
  },
  {
   "cell_type": "code",
   "execution_count": 8,
   "outputs": [],
   "source": [
    "X = data['cleaned_review_JOINED']\n",
    "y = data['rating']"
   ],
   "metadata": {
    "collapsed": false,
    "ExecuteTime": {
     "end_time": "2024-01-03T09:25:00.326407Z",
     "start_time": "2024-01-03T09:25:00.320434Z"
    }
   },
   "id": "70190ba1386b0fc9"
  },
  {
   "cell_type": "markdown",
   "source": [
    "# LOGISTIC REGRESSION"
   ],
   "metadata": {
    "collapsed": false
   },
   "id": "582882de155284"
  },
  {
   "cell_type": "code",
   "execution_count": 9,
   "outputs": [],
   "source": [
    "# encode the target variable for yellowbrick\n",
    "from sklearn.preprocessing import LabelEncoder\n",
    "le = LabelEncoder()\n",
    "y = le.fit_transform(y)"
   ],
   "metadata": {
    "collapsed": false,
    "ExecuteTime": {
     "end_time": "2024-01-03T09:25:00.327121Z",
     "start_time": "2024-01-03T09:25:00.322709Z"
    }
   },
   "id": "d5874c8ccef4ab0e"
  },
  {
   "cell_type": "code",
   "execution_count": 10,
   "outputs": [],
   "source": [
    "# split the data\n",
    "X_train, X_test, y_train, y_test = train_test_split(X, y, test_size=0.2, random_state=42, stratify=y)"
   ],
   "metadata": {
    "collapsed": false,
    "ExecuteTime": {
     "end_time": "2024-01-03T09:25:00.333477Z",
     "start_time": "2024-01-03T09:25:00.326349Z"
    }
   },
   "id": "c0661a7c758de110"
  },
  {
   "cell_type": "code",
   "execution_count": 11,
   "outputs": [],
   "source": [
    "from sklearn.utils import compute_class_weight\n",
    "\n",
    "classes = np.unique(y)\n",
    "weights = compute_class_weight(\n",
    "    class_weight='balanced', classes=classes, y=y\n",
    ")\n",
    "\n",
    "class_weights = dict(zip(classes, weights))"
   ],
   "metadata": {
    "collapsed": false,
    "ExecuteTime": {
     "end_time": "2024-01-03T09:25:00.338827Z",
     "start_time": "2024-01-03T09:25:00.334330Z"
    }
   },
   "id": "c3e05a691a3ae53a"
  },
  {
   "cell_type": "code",
   "execution_count": 24,
   "outputs": [
    {
     "name": "stdout",
     "output_type": "stream",
     "text": [
      "              precision    recall  f1-score   support\n",
      "\n",
      "           0       0.23      0.44      0.30       168\n",
      "           1       0.22      0.05      0.08       313\n",
      "           2       0.32      0.37      0.35       574\n",
      "           3       0.37      0.41      0.39      1016\n",
      "           4       0.79      0.75      0.77      2627\n",
      "\n",
      "    accuracy                           0.57      4698\n",
      "   macro avg       0.39      0.40      0.38      4698\n",
      "weighted avg       0.58      0.57      0.57      4698\n"
     ]
    },
    {
     "name": "stderr",
     "output_type": "stream",
     "text": [
      "/Users/witcheverly/opt/anaconda3/envs/mle/lib/python3.11/site-packages/sklearn/linear_model/_sag.py:350: ConvergenceWarning: The max_iter was reached which means the coef_ did not converge\n",
      "  warnings.warn(\n"
     ]
    }
   ],
   "source": [
    "logreg_params = {'C': 10,\n",
    "                 'class_weight': class_weights,\n",
    "                 'solver': 'saga',\n",
    "                 'penalty': 'l2',\n",
    "                 'multi_class': 'multinomial',\n",
    "                 'random_state': 42,\n",
    "                 'max_iter': 1000}\n",
    "\n",
    "tfidf_params = {'smooth_idf': True,\n",
    "                'max_df': 0.5}\n",
    "\n",
    "# Scale if using regularization\n",
    "pipeline = Pipeline([\n",
    "    ('tfidf', TfidfVectorizer(**tfidf_params)),\n",
    "   # ('preprocess', StandardScaler(with_mean=False)),\n",
    "    ('logreg', LogisticRegression(**logreg_params))]\n",
    "    )\n",
    "\n",
    "pipeline.fit(X_train, y_train)\n",
    "predictions = pipeline.predict(X_test)\n",
    "print(classification_report(y_test, predictions))"
   ],
   "metadata": {
    "collapsed": false,
    "ExecuteTime": {
     "end_time": "2024-01-03T09:34:50.677944Z",
     "start_time": "2024-01-03T09:34:41.164914Z"
    }
   },
   "id": "d4837e121948fa26"
  },
  {
   "cell_type": "code",
   "execution_count": 25,
   "outputs": [
    {
     "name": "stderr",
     "output_type": "stream",
     "text": [
      "/Users/witcheverly/opt/anaconda3/envs/mle/lib/python3.11/site-packages/sklearn/linear_model/_sag.py:350: ConvergenceWarning: The max_iter was reached which means the coef_ did not converge\n",
      "  warnings.warn(\n",
      "/Users/witcheverly/opt/anaconda3/envs/mle/lib/python3.11/site-packages/sklearn/linear_model/_sag.py:350: ConvergenceWarning: The max_iter was reached which means the coef_ did not converge\n",
      "  warnings.warn(\n",
      "/Users/witcheverly/opt/anaconda3/envs/mle/lib/python3.11/site-packages/sklearn/linear_model/_sag.py:350: ConvergenceWarning: The max_iter was reached which means the coef_ did not converge\n",
      "  warnings.warn(\n",
      "/Users/witcheverly/opt/anaconda3/envs/mle/lib/python3.11/site-packages/sklearn/linear_model/_sag.py:350: ConvergenceWarning: The max_iter was reached which means the coef_ did not converge\n",
      "  warnings.warn(\n",
      "/Users/witcheverly/opt/anaconda3/envs/mle/lib/python3.11/site-packages/sklearn/linear_model/_sag.py:350: ConvergenceWarning: The max_iter was reached which means the coef_ did not converge\n",
      "  warnings.warn(\n",
      "/Users/witcheverly/opt/anaconda3/envs/mle/lib/python3.11/site-packages/sklearn/linear_model/_sag.py:350: ConvergenceWarning: The max_iter was reached which means the coef_ did not converge\n",
      "  warnings.warn(\n",
      "/Users/witcheverly/opt/anaconda3/envs/mle/lib/python3.11/site-packages/sklearn/linear_model/_sag.py:350: ConvergenceWarning: The max_iter was reached which means the coef_ did not converge\n",
      "  warnings.warn(\n",
      "/Users/witcheverly/opt/anaconda3/envs/mle/lib/python3.11/site-packages/sklearn/linear_model/_sag.py:350: ConvergenceWarning: The max_iter was reached which means the coef_ did not converge\n",
      "  warnings.warn(\n",
      "/Users/witcheverly/opt/anaconda3/envs/mle/lib/python3.11/site-packages/sklearn/linear_model/_sag.py:350: ConvergenceWarning: The max_iter was reached which means the coef_ did not converge\n",
      "  warnings.warn(\n",
      "/Users/witcheverly/opt/anaconda3/envs/mle/lib/python3.11/site-packages/sklearn/linear_model/_sag.py:350: ConvergenceWarning: The max_iter was reached which means the coef_ did not converge\n",
      "  warnings.warn(\n",
      "/Users/witcheverly/opt/anaconda3/envs/mle/lib/python3.11/site-packages/sklearn/linear_model/_sag.py:350: ConvergenceWarning: The max_iter was reached which means the coef_ did not converge\n",
      "  warnings.warn(\n",
      "/Users/witcheverly/opt/anaconda3/envs/mle/lib/python3.11/site-packages/sklearn/linear_model/_sag.py:350: ConvergenceWarning: The max_iter was reached which means the coef_ did not converge\n",
      "  warnings.warn(\n",
      "/Users/witcheverly/opt/anaconda3/envs/mle/lib/python3.11/site-packages/sklearn/linear_model/_sag.py:350: ConvergenceWarning: The max_iter was reached which means the coef_ did not converge\n",
      "  warnings.warn(\n",
      "/Users/witcheverly/opt/anaconda3/envs/mle/lib/python3.11/site-packages/sklearn/linear_model/_sag.py:350: ConvergenceWarning: The max_iter was reached which means the coef_ did not converge\n",
      "  warnings.warn(\n",
      "/Users/witcheverly/opt/anaconda3/envs/mle/lib/python3.11/site-packages/sklearn/linear_model/_sag.py:350: ConvergenceWarning: The max_iter was reached which means the coef_ did not converge\n",
      "  warnings.warn(\n",
      "/Users/witcheverly/opt/anaconda3/envs/mle/lib/python3.11/site-packages/sklearn/linear_model/_sag.py:350: ConvergenceWarning: The max_iter was reached which means the coef_ did not converge\n",
      "  warnings.warn(\n",
      "/Users/witcheverly/opt/anaconda3/envs/mle/lib/python3.11/site-packages/sklearn/linear_model/_sag.py:350: ConvergenceWarning: The max_iter was reached which means the coef_ did not converge\n",
      "  warnings.warn(\n",
      "/Users/witcheverly/opt/anaconda3/envs/mle/lib/python3.11/site-packages/sklearn/linear_model/_sag.py:350: ConvergenceWarning: The max_iter was reached which means the coef_ did not converge\n",
      "  warnings.warn(\n",
      "/Users/witcheverly/opt/anaconda3/envs/mle/lib/python3.11/site-packages/sklearn/linear_model/_sag.py:350: ConvergenceWarning: The max_iter was reached which means the coef_ did not converge\n",
      "  warnings.warn(\n",
      "/Users/witcheverly/opt/anaconda3/envs/mle/lib/python3.11/site-packages/sklearn/linear_model/_sag.py:350: ConvergenceWarning: The max_iter was reached which means the coef_ did not converge\n",
      "  warnings.warn(\n",
      "/Users/witcheverly/opt/anaconda3/envs/mle/lib/python3.11/site-packages/sklearn/linear_model/_sag.py:350: ConvergenceWarning: The max_iter was reached which means the coef_ did not converge\n",
      "  warnings.warn(\n",
      "/Users/witcheverly/opt/anaconda3/envs/mle/lib/python3.11/site-packages/sklearn/linear_model/_sag.py:350: ConvergenceWarning: The max_iter was reached which means the coef_ did not converge\n",
      "  warnings.warn(\n",
      "/Users/witcheverly/opt/anaconda3/envs/mle/lib/python3.11/site-packages/sklearn/linear_model/_sag.py:350: ConvergenceWarning: The max_iter was reached which means the coef_ did not converge\n",
      "  warnings.warn(\n",
      "/Users/witcheverly/opt/anaconda3/envs/mle/lib/python3.11/site-packages/sklearn/linear_model/_sag.py:350: ConvergenceWarning: The max_iter was reached which means the coef_ did not converge\n",
      "  warnings.warn(\n",
      "/Users/witcheverly/opt/anaconda3/envs/mle/lib/python3.11/site-packages/sklearn/linear_model/_sag.py:350: ConvergenceWarning: The max_iter was reached which means the coef_ did not converge\n",
      "  warnings.warn(\n",
      "/Users/witcheverly/opt/anaconda3/envs/mle/lib/python3.11/site-packages/sklearn/linear_model/_sag.py:350: ConvergenceWarning: The max_iter was reached which means the coef_ did not converge\n",
      "  warnings.warn(\n",
      "/Users/witcheverly/opt/anaconda3/envs/mle/lib/python3.11/site-packages/sklearn/linear_model/_sag.py:350: ConvergenceWarning: The max_iter was reached which means the coef_ did not converge\n",
      "  warnings.warn(\n",
      "/Users/witcheverly/opt/anaconda3/envs/mle/lib/python3.11/site-packages/sklearn/linear_model/_sag.py:350: ConvergenceWarning: The max_iter was reached which means the coef_ did not converge\n",
      "  warnings.warn(\n",
      "/Users/witcheverly/opt/anaconda3/envs/mle/lib/python3.11/site-packages/sklearn/linear_model/_sag.py:350: ConvergenceWarning: The max_iter was reached which means the coef_ did not converge\n",
      "  warnings.warn(\n",
      "/Users/witcheverly/opt/anaconda3/envs/mle/lib/python3.11/site-packages/sklearn/linear_model/_sag.py:350: ConvergenceWarning: The max_iter was reached which means the coef_ did not converge\n",
      "  warnings.warn(\n"
     ]
    },
    {
     "name": "stdout",
     "output_type": "stream",
     "text": [
      "Best parameters: {'logreg__C': 0.1, 'tfidf__max_df': 0.5}\n",
      "Best cross-validation score: 0.5704244638906046\n"
     ]
    }
   ],
   "source": [
    "from sklearn.model_selection import GridSearchCV\n",
    "\n",
    "# Define the parameter grid\n",
    "param_grid = {\n",
    "    'tfidf__max_df': [0.5, 0.75, 1.0],\n",
    "    'logreg__C': [0.1, 1, 10]\n",
    "}\n",
    "\n",
    "# Initialize GridSearchCV\n",
    "grid_search = GridSearchCV(pipeline, param_grid, cv=5, scoring='f1_weighted')\n",
    "\n",
    "# Fit on data\n",
    "grid_search.fit(X, y)\n",
    "\n",
    "print(\"Best parameters:\", grid_search.best_params_)\n",
    "print(\"Best cross-validation score:\", grid_search.best_score_)"
   ],
   "metadata": {
    "collapsed": false,
    "ExecuteTime": {
     "end_time": "2024-01-03T14:08:18.285163Z",
     "start_time": "2024-01-03T09:34:58.675187Z"
    }
   },
   "id": "f8d503eb1070278a"
  },
  {
   "cell_type": "markdown",
   "source": [],
   "metadata": {
    "collapsed": false
   },
   "id": "b43ca1900070443"
  },
  {
   "cell_type": "code",
   "execution_count": 1,
   "outputs": [
    {
     "ename": "NameError",
     "evalue": "name 'pipeline' is not defined",
     "output_type": "error",
     "traceback": [
      "\u001B[0;31m---------------------------------------------------------------------------\u001B[0m",
      "\u001B[0;31mNameError\u001B[0m                                 Traceback (most recent call last)",
      "Cell \u001B[0;32mIn[1], line 3\u001B[0m\n\u001B[1;32m      1\u001B[0m \u001B[38;5;28;01mfrom\u001B[39;00m \u001B[38;5;21;01msklearn\u001B[39;00m\u001B[38;5;21;01m.\u001B[39;00m\u001B[38;5;21;01mmodel_selection\u001B[39;00m \u001B[38;5;28;01mimport\u001B[39;00m cross_val_score\n\u001B[0;32m----> 3\u001B[0m scores \u001B[38;5;241m=\u001B[39m cross_val_score(pipeline, X, y, scoring\u001B[38;5;241m=\u001B[39m\u001B[38;5;124m'\u001B[39m\u001B[38;5;124mf1_weighted\u001B[39m\u001B[38;5;124m'\u001B[39m) \n\u001B[1;32m      4\u001B[0m \u001B[38;5;28mprint\u001B[39m(\u001B[38;5;124m\"\u001B[39m\u001B[38;5;124mCross-validation scores:\u001B[39m\u001B[38;5;124m\"\u001B[39m, scores)\n\u001B[1;32m      5\u001B[0m \u001B[38;5;28mprint\u001B[39m(\u001B[38;5;124m\"\u001B[39m\u001B[38;5;124mMean score:\u001B[39m\u001B[38;5;124m\"\u001B[39m, scores\u001B[38;5;241m.\u001B[39mmean())\n",
      "\u001B[0;31mNameError\u001B[0m: name 'pipeline' is not defined"
     ]
    }
   ],
   "source": [
    "from sklearn.model_selection import cross_val_score\n",
    "\n",
    "scores = cross_val_score(pipeline, X, y, scoring='f1_weighted') \n",
    "print(\"Cross-validation scores:\", scores)\n",
    "print(\"Mean score:\", scores.mean())\n",
    "\n",
    "\n",
    "from sklearn.model_selection import cross_validate\n",
    "\n",
    "scores = cross_validate(\n",
    "    pipeline, X, y, scoring=('precision', 'recall', 'f1_weight'), return_train_score=True)"
   ],
   "metadata": {
    "collapsed": false,
    "ExecuteTime": {
     "end_time": "2024-01-03T09:16:20.731980Z",
     "start_time": "2024-01-03T09:16:20.108188Z"
    }
   },
   "id": "b1322a41a9b7d505"
  },
  {
   "cell_type": "code",
   "execution_count": 22,
   "outputs": [
    {
     "name": "stderr",
     "output_type": "stream",
     "text": [
      "/Users/witcheverly/opt/anaconda3/envs/mle/lib/python3.11/site-packages/sklearn/linear_model/_sag.py:350: ConvergenceWarning: The max_iter was reached which means the coef_ did not converge\n",
      "  warnings.warn(\n",
      "/Users/witcheverly/opt/anaconda3/envs/mle/lib/python3.11/site-packages/sklearn/linear_model/_sag.py:350: ConvergenceWarning: The max_iter was reached which means the coef_ did not converge\n",
      "  warnings.warn(\n",
      "/Users/witcheverly/opt/anaconda3/envs/mle/lib/python3.11/site-packages/sklearn/linear_model/_sag.py:350: ConvergenceWarning: The max_iter was reached which means the coef_ did not converge\n",
      "  warnings.warn(\n",
      "/Users/witcheverly/opt/anaconda3/envs/mle/lib/python3.11/site-packages/sklearn/linear_model/_sag.py:350: ConvergenceWarning: The max_iter was reached which means the coef_ did not converge\n",
      "  warnings.warn(\n",
      "/Users/witcheverly/opt/anaconda3/envs/mle/lib/python3.11/site-packages/sklearn/linear_model/_sag.py:350: ConvergenceWarning: The max_iter was reached which means the coef_ did not converge\n",
      "  warnings.warn(\n",
      "/Users/witcheverly/opt/anaconda3/envs/mle/lib/python3.11/site-packages/sklearn/linear_model/_sag.py:350: ConvergenceWarning: The max_iter was reached which means the coef_ did not converge\n",
      "  warnings.warn(\n",
      "/Users/witcheverly/opt/anaconda3/envs/mle/lib/python3.11/site-packages/sklearn/linear_model/_sag.py:350: ConvergenceWarning: The max_iter was reached which means the coef_ did not converge\n",
      "  warnings.warn(\n",
      "/Users/witcheverly/opt/anaconda3/envs/mle/lib/python3.11/site-packages/sklearn/linear_model/_sag.py:350: ConvergenceWarning: The max_iter was reached which means the coef_ did not converge\n",
      "  warnings.warn(\n",
      "/Users/witcheverly/opt/anaconda3/envs/mle/lib/python3.11/site-packages/sklearn/linear_model/_sag.py:350: ConvergenceWarning: The max_iter was reached which means the coef_ did not converge\n",
      "  warnings.warn(\n",
      "/Users/witcheverly/opt/anaconda3/envs/mle/lib/python3.11/site-packages/sklearn/linear_model/_sag.py:350: ConvergenceWarning: The max_iter was reached which means the coef_ did not converge\n",
      "  warnings.warn(\n",
      "/Users/witcheverly/opt/anaconda3/envs/mle/lib/python3.11/site-packages/sklearn/linear_model/_sag.py:350: ConvergenceWarning: The max_iter was reached which means the coef_ did not converge\n",
      "  warnings.warn(\n",
      "/Users/witcheverly/opt/anaconda3/envs/mle/lib/python3.11/site-packages/sklearn/linear_model/_sag.py:350: ConvergenceWarning: The max_iter was reached which means the coef_ did not converge\n",
      "  warnings.warn(\n",
      "/Users/witcheverly/opt/anaconda3/envs/mle/lib/python3.11/site-packages/sklearn/linear_model/_sag.py:350: ConvergenceWarning: The max_iter was reached which means the coef_ did not converge\n",
      "  warnings.warn(\n",
      "/Users/witcheverly/opt/anaconda3/envs/mle/lib/python3.11/site-packages/sklearn/linear_model/_sag.py:350: ConvergenceWarning: The max_iter was reached which means the coef_ did not converge\n",
      "  warnings.warn(\n",
      "/Users/witcheverly/opt/anaconda3/envs/mle/lib/python3.11/site-packages/sklearn/linear_model/_sag.py:350: ConvergenceWarning: The max_iter was reached which means the coef_ did not converge\n",
      "  warnings.warn(\n",
      "/Users/witcheverly/opt/anaconda3/envs/mle/lib/python3.11/site-packages/sklearn/linear_model/_sag.py:350: ConvergenceWarning: The max_iter was reached which means the coef_ did not converge\n",
      "  warnings.warn(\n",
      "/Users/witcheverly/opt/anaconda3/envs/mle/lib/python3.11/site-packages/sklearn/linear_model/_sag.py:350: ConvergenceWarning: The max_iter was reached which means the coef_ did not converge\n",
      "  warnings.warn(\n",
      "/Users/witcheverly/opt/anaconda3/envs/mle/lib/python3.11/site-packages/sklearn/linear_model/_sag.py:350: ConvergenceWarning: The max_iter was reached which means the coef_ did not converge\n",
      "  warnings.warn(\n"
     ]
    },
    {
     "name": "stdout",
     "output_type": "stream",
     "text": [
      "Best parameters: {'logreg__C': 1, 'tfidf__max_df': 0.5}\n",
      "Best cross-validation score: 0.5671044032468934\n"
     ]
    },
    {
     "name": "stderr",
     "output_type": "stream",
     "text": [
      "/Users/witcheverly/opt/anaconda3/envs/mle/lib/python3.11/site-packages/sklearn/linear_model/_sag.py:350: ConvergenceWarning: The max_iter was reached which means the coef_ did not converge\n",
      "  warnings.warn(\n"
     ]
    }
   ],
   "source": [
    "from sklearn.model_selection import GridSearchCV\n",
    "\n",
    "# Define the parameter grid\n",
    "param_grid = {\n",
    "    'tfidf__max_df': [0.5, 0.75, 1.0],\n",
    "    'logreg__C': [0.1, 1, 10]\n",
    "}\n",
    "\n",
    "# Initialize GridSearchCV\n",
    "grid_search = GridSearchCV(pipeline, param_grid, cv=3)\n",
    "\n",
    "# Fit on data\n",
    "grid_search.fit(X, y)\n",
    "\n",
    "print(\"Best parameters:\", grid_search.best_params_)\n",
    "print(\"Best cross-validation score:\", grid_search.best_score_)"
   ],
   "metadata": {
    "collapsed": false,
    "ExecuteTime": {
     "end_time": "2024-01-03T09:33:34.552976Z",
     "start_time": "2024-01-03T09:30:53.034380Z"
    }
   },
   "id": "6cb05647bd9e4fd2"
  },
  {
   "cell_type": "code",
   "execution_count": 21,
   "outputs": [
    {
     "name": "stderr",
     "output_type": "stream",
     "text": [
      "/Users/witcheverly/opt/anaconda3/envs/mle/lib/python3.11/site-packages/sklearn/linear_model/_sag.py:350: ConvergenceWarning: The max_iter was reached which means the coef_ did not converge\n",
      "  warnings.warn(\n",
      "/Users/witcheverly/opt/anaconda3/envs/mle/lib/python3.11/site-packages/sklearn/linear_model/_sag.py:350: ConvergenceWarning: The max_iter was reached which means the coef_ did not converge\n",
      "  warnings.warn(\n",
      "/Users/witcheverly/opt/anaconda3/envs/mle/lib/python3.11/site-packages/sklearn/linear_model/_sag.py:350: ConvergenceWarning: The max_iter was reached which means the coef_ did not converge\n",
      "  warnings.warn(\n",
      "/Users/witcheverly/opt/anaconda3/envs/mle/lib/python3.11/site-packages/sklearn/linear_model/_sag.py:350: ConvergenceWarning: The max_iter was reached which means the coef_ did not converge\n",
      "  warnings.warn(\n",
      "/Users/witcheverly/opt/anaconda3/envs/mle/lib/python3.11/site-packages/sklearn/linear_model/_sag.py:350: ConvergenceWarning: The max_iter was reached which means the coef_ did not converge\n",
      "  warnings.warn(\n"
     ]
    },
    {
     "data": {
      "text/plain": "0.6003462786768974"
     },
     "execution_count": 21,
     "metadata": {},
     "output_type": "execute_result"
    },
    {
     "data": {
      "text/plain": "<Figure size 800x550 with 1 Axes>",
      "image/png": "[encoded data removed]"
     },
     "metadata": {},
     "output_type": "display_data"
    }
   ],
   "source": [
    "# yellowbrick precision recall curve\n",
    "from yellowbrick.classifier import PrecisionRecallCurve\n",
    "\n",
    "viz = PrecisionRecallCurve(pipeline)\n",
    "viz.fit(X_train, y_train)\n",
    "viz.score(X_test, y_test)"
   ],
   "metadata": {
    "collapsed": false,
    "ExecuteTime": {
     "end_time": "2024-01-03T09:30:24.845932Z",
     "start_time": "2024-01-03T09:29:54.587626Z"
    }
   },
   "id": "78a2970ead81d04c"
  },
  {
   "cell_type": "markdown",
   "source": [
    "# LOGISTIC REGRESSION CV"
   ],
   "metadata": {
    "collapsed": false
   },
   "id": "50c30a5638425c4b"
  },
  {
   "cell_type": "code",
   "execution_count": null,
   "outputs": [],
   "source": [
    "from sklearn.linear_model import LogisticRegressionCV\n",
    "from sklearn.model_selection import StratifiedKFold\n",
    "from sklearn.metrics import classification_report\n",
    "\n",
    "# import cross validation score\n",
    "from sklearn.model_selection import cross_val_score, cross_val_predict, cross_validate\n"
   ],
   "metadata": {
    "collapsed": false
   },
   "id": "e2c0661c84903d74"
  },
  {
   "cell_type": "code",
   "execution_count": 11,
   "outputs": [
    {
     "ename": "NameError",
     "evalue": "name 'LogisticRegressionCV' is not defined",
     "output_type": "error",
     "traceback": [
      "\u001B[0;31m---------------------------------------------------------------------------\u001B[0m",
      "\u001B[0;31mNameError\u001B[0m                                 Traceback (most recent call last)",
      "Cell \u001B[0;32mIn[11], line 1\u001B[0m\n\u001B[0;32m----> 1\u001B[0m lr_cv \u001B[38;5;241m=\u001B[39m LogisticRegressionCV(\n\u001B[1;32m      2\u001B[0m     Cs\u001B[38;5;241m=\u001B[39m\u001B[38;5;241m10\u001B[39m,\n\u001B[1;32m      3\u001B[0m     cv\u001B[38;5;241m=\u001B[39mStratifiedKFold(n_splits\u001B[38;5;241m=\u001B[39m\u001B[38;5;241m5\u001B[39m, shuffle\u001B[38;5;241m=\u001B[39m\u001B[38;5;28;01mTrue\u001B[39;00m, random_state\u001B[38;5;241m=\u001B[39m\u001B[38;5;241m42\u001B[39m),\n\u001B[1;32m      4\u001B[0m     scoring\u001B[38;5;241m=\u001B[39m\u001B[38;5;124m'\u001B[39m\u001B[38;5;124maccuracy\u001B[39m\u001B[38;5;124m'\u001B[39m,\n\u001B[1;32m      5\u001B[0m     verbose\u001B[38;5;241m=\u001B[39m\u001B[38;5;241m1\u001B[39m,\n\u001B[1;32m      6\u001B[0m     multi_class\u001B[38;5;241m=\u001B[39m\u001B[38;5;124m'\u001B[39m\u001B[38;5;124mauto\u001B[39m\u001B[38;5;124m'\u001B[39m,\n\u001B[1;32m      7\u001B[0m     max_iter\u001B[38;5;241m=\u001B[39m\u001B[38;5;241m1000\u001B[39m,\n\u001B[1;32m      8\u001B[0m     random_state\u001B[38;5;241m=\u001B[39m\u001B[38;5;241m42\u001B[39m,\n\u001B[1;32m      9\u001B[0m     n_jobs\u001B[38;5;241m=\u001B[39m\u001B[38;5;241m-\u001B[39m\u001B[38;5;241m1\u001B[39m\n\u001B[1;32m     10\u001B[0m )\n\u001B[1;32m     12\u001B[0m lr_cv\u001B[38;5;241m.\u001B[39mfit(X_train, y_train)\n\u001B[1;32m     13\u001B[0m predictions \u001B[38;5;241m=\u001B[39m lr_cv\u001B[38;5;241m.\u001B[39mpredict(X_test)\n",
      "\u001B[0;31mNameError\u001B[0m: name 'LogisticRegressionCV' is not defined"
     ]
    }
   ],
   "source": [
    "lr_cv = LogisticRegressionCV(\n",
    "    Cs=10,\n",
    "    cv=StratifiedKFold(n_splits=5, shuffle=True, random_state=42),\n",
    "    scoring='accuracy',\n",
    "    verbose=1,\n",
    "    multi_class='auto',\n",
    "    max_iter=1000,\n",
    "    random_state=42,\n",
    "    n_jobs=-1\n",
    ")\n",
    "\n",
    "lr_cv.fit(X_train, y_train)\n",
    "predictions = lr_cv.predict(X_test)\n",
    "print(classification_report(y_test, predictions))"
   ],
   "metadata": {
    "collapsed": false,
    "ExecuteTime": {
     "end_time": "2024-01-03T07:51:13.058800Z",
     "start_time": "2024-01-03T07:51:12.639980Z"
    }
   },
   "id": "c93409f2f0c6c68a"
  }
 ],
 "metadata": {
  "kernelspec": {
   "display_name": "Python 3",
   "language": "python",
   "name": "python3"
  },
  "language_info": {
   "codemirror_mode": {
    "name": "ipython",
    "version": 2
   },
   "file_extension": ".py",
   "mimetype": "text/x-python",
   "name": "python",
   "nbconvert_exporter": "python",
   "pygments_lexer": "ipython2",
   "version": "2.7.6"
  }
 },
 "nbformat": 4,
 "nbformat_minor": 5
}
